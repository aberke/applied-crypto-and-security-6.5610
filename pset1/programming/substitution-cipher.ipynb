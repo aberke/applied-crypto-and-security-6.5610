{
 "cells": [
  {
   "cell_type": "markdown",
   "id": "960c29f4",
   "metadata": {},
   "source": [
    "# Assignment\n",
    "\n",
    "The file substitution.bin is a substitution cipher of an English language document, using ASCII\n",
    "character encoding. Your task is to figure out the substitution pattern used to encrypt the document.\n",
    "Then, using the substitution, provide the encryption of your kerberos email in lowercase (including\n",
    "the @mit.edu) as this answer. Write each byte in hexadecimal notation, e.g 03, a2, 4e."
   ]
  },
  {
   "cell_type": "code",
   "execution_count": 11,
   "id": "f88d21c4",
   "metadata": {},
   "outputs": [],
   "source": [
    "import numpy as np\n",
    "import pandas as pd\n",
    "\n",
    "import substitution as sub"
   ]
  },
  {
   "cell_type": "code",
   "execution_count": 45,
   "id": "64cb6bd5",
   "metadata": {},
   "outputs": [
    {
     "name": "stdout",
     "output_type": "stream",
     "text": [
      "message length in bytes (characters):\n",
      "10865\n"
     ]
    }
   ],
   "source": [
    "cipher_bytes = sub.read_file(\"substitution.bin\")\n",
    "print('message length in bytes (characters):')\n",
    "print(len(cipher))"
   ]
  },
  {
   "cell_type": "code",
   "execution_count": 28,
   "id": "6d2ccf31",
   "metadata": {},
   "outputs": [
    {
     "name": "stdout",
     "output_type": "stream",
     "text": [
      "b'%MDXTXZmff:*M*[AMCmfOZZHK:TUf:(f:*[f%MX*(fHCgX*If(9ZfTMCgmZqf[MCf:gZfxZDTMAZf(MfmZ*HfCmf:*M*[AMCmfOZ'\n"
     ]
    }
   ],
   "source": [
    "print(cipher[:100])"
   ]
  },
  {
   "cell_type": "code",
   "execution_count": 27,
   "id": "c21b3241",
   "metadata": {},
   "outputs": [],
   "source": [
    "sub_test = sub.try_substitution({58: 'a'}, cipher_bytes)"
   ]
  },
  {
   "cell_type": "code",
   "execution_count": 29,
   "id": "24bdd563",
   "metadata": {},
   "outputs": [
    {
     "name": "stdout",
     "output_type": "stream",
     "text": [
      " 37 77 68 88 84 88 90 109 102 102 a 42 77 42 91 65 77 67 109 102 79 90 90 72 75 a 84 85 102 a 40 102\n"
     ]
    }
   ],
   "source": [
    "print(sub_test[:100])"
   ]
  },
  {
   "cell_type": "markdown",
   "id": "da0a92a3",
   "metadata": {},
   "source": [
    "Get the cipher as a sequence of ints representing the bytes."
   ]
  },
  {
   "cell_type": "code",
   "execution_count": 46,
   "id": "89f23677",
   "metadata": {},
   "outputs": [
    {
     "name": "stdout",
     "output_type": "stream",
     "text": [
      "[37, 77, 68, 88, 84, 88, 90, 109, 102, 102]\n"
     ]
    }
   ],
   "source": [
    "# Get the cipher as a list of ASCII decimals\n",
    "\n",
    "chars_list = [b for b in cipher]\n",
    "chars_s = pd.Series(chars_list)\n",
    "assert(len(chars_list) == len(cipher))\n",
    "print(chars_list[:10])"
   ]
  },
  {
   "cell_type": "markdown",
   "id": "acff3ec7",
   "metadata": {},
   "source": [
    "How many unique characters are in the text?\n",
    "\n",
    "- There are 95 printable ASCII characters in total: https://en.wikipedia.org/wiki/ASCII#Printable_characters\n",
    "- codes 32 - 126"
   ]
  },
  {
   "cell_type": "code",
   "execution_count": 35,
   "id": "131166b4",
   "metadata": {},
   "outputs": [],
   "source": [
    "printable_chars = list(range(32,127))"
   ]
  },
  {
   "cell_type": "code",
   "execution_count": 42,
   "id": "2384c258",
   "metadata": {},
   "outputs": [
    {
     "name": "stdout",
     "output_type": "stream",
     "text": [
      "How many unique characters?\n",
      "51\n",
      "Are the all in the list of printable characters?\n",
      "True\n",
      "yes\n"
     ]
    }
   ],
   "source": [
    "print('How many unique characters?')\n",
    "print(chars_s.nunique())\n",
    "print('Are the all in the list of printable characters?')\n",
    "print(pd.Series(chars_s.unique()).isin(printable_chars).sum() == chars_s.nunique())\n",
    "print('yes')"
   ]
  },
  {
   "cell_type": "markdown",
   "id": "9e77baf9",
   "metadata": {},
   "source": [
    "## Basic frequency analysis\n",
    "\n",
    "Get the distribution of characters, etc. Match it against some known distributions from English language text.\n",
    "- char counts\n",
    "- bigram counts\n",
    "- trigram counts"
   ]
  },
  {
   "cell_type": "code",
   "execution_count": 94,
   "id": "fdfa3a0d",
   "metadata": {},
   "outputs": [
    {
     "name": "stdout",
     "output_type": "stream",
     "text": [
      "distribution of character counts:\n",
      "                c        count       freq\n",
      "count   51.000000    51.000000  51.000000\n",
      "mean    81.764706   213.039216   0.019608\n",
      "std     24.694605   346.754897   0.031858\n",
      "min     32.000000     1.000000   0.000000\n",
      "25%     64.500000     6.500000   0.001000\n",
      "50%     81.000000    38.000000   0.003000\n",
      "75%    102.500000   263.500000   0.024000\n",
      "max    124.000000  1863.000000   0.171000\n"
     ]
    },
    {
     "data": {
      "text/html": [
       "<div>\n",
       "<style scoped>\n",
       "    .dataframe tbody tr th:only-of-type {\n",
       "        vertical-align: middle;\n",
       "    }\n",
       "\n",
       "    .dataframe tbody tr th {\n",
       "        vertical-align: top;\n",
       "    }\n",
       "\n",
       "    .dataframe thead th {\n",
       "        text-align: right;\n",
       "    }\n",
       "</style>\n",
       "<table border=\"1\" class=\"dataframe\">\n",
       "  <thead>\n",
       "    <tr style=\"text-align: right;\">\n",
       "      <th></th>\n",
       "      <th>c</th>\n",
       "      <th>count</th>\n",
       "      <th>freq</th>\n",
       "    </tr>\n",
       "  </thead>\n",
       "  <tbody>\n",
       "    <tr>\n",
       "      <th>0</th>\n",
       "      <td>102</td>\n",
       "      <td>1863</td>\n",
       "      <td>0.171</td>\n",
       "    </tr>\n",
       "    <tr>\n",
       "      <th>1</th>\n",
       "      <td>90</td>\n",
       "      <td>1038</td>\n",
       "      <td>0.096</td>\n",
       "    </tr>\n",
       "    <tr>\n",
       "      <th>2</th>\n",
       "      <td>40</td>\n",
       "      <td>786</td>\n",
       "      <td>0.072</td>\n",
       "    </tr>\n",
       "    <tr>\n",
       "      <th>3</th>\n",
       "      <td>77</td>\n",
       "      <td>763</td>\n",
       "      <td>0.070</td>\n",
       "    </tr>\n",
       "    <tr>\n",
       "      <th>4</th>\n",
       "      <td>109</td>\n",
       "      <td>650</td>\n",
       "      <td>0.060</td>\n",
       "    </tr>\n",
       "  </tbody>\n",
       "</table>\n",
       "</div>"
      ],
      "text/plain": [
       "     c  count   freq\n",
       "0  102   1863  0.171\n",
       "1   90   1038  0.096\n",
       "2   40    786  0.072\n",
       "3   77    763  0.070\n",
       "4  109    650  0.060"
      ]
     },
     "execution_count": 94,
     "metadata": {},
     "output_type": "execute_result"
    }
   ],
   "source": [
    "char_counts_df = (\n",
    "    chars_s.value_counts().rename('count').to_frame().reset_index()\n",
    "    .rename(columns={'index':'c'})\n",
    "    .assign(freq=lambda x: x['count']/len(chars_list)).round(3)\n",
    "    .sort_values(by='count',ascending=False)\n",
    ")\n",
    "print('distribution of character counts:')\n",
    "print(char_counts_df.describe())\n",
    "char_counts_df.head(5)"
   ]
  },
  {
   "cell_type": "markdown",
   "id": "0ca729d2",
   "metadata": {},
   "source": [
    "It seems c 102 might be the space character. I expect the space character to be well distributed and not appear with multiple in a row.\n",
    "\n",
    "Does 102 ever occur with 2 in a row? This will also be answered if we just collect the bigrams which we need to do anyhow."
   ]
  },
  {
   "cell_type": "code",
   "execution_count": 83,
   "id": "ad478e40",
   "metadata": {},
   "outputs": [],
   "source": [
    "# Get the bigrams\n",
    "bigrams_list = []\n",
    "for i in range(1, len(chars_list)):\n",
    "    bigrams_list += [[chars_list[i-1], chars_list[i]]]\n",
    "# Get the trigrams\n",
    "trigrams_list = []\n",
    "for i in range(2, len(chars_list)):\n",
    "    trigrams_list += [[chars_list[i-2], chars_list[i-1], chars_list[i]]]"
   ]
  },
  {
   "cell_type": "code",
   "execution_count": 85,
   "id": "8c4f89f5",
   "metadata": {},
   "outputs": [
    {
     "name": "stdout",
     "output_type": "stream",
     "text": [
      "chars_list[:6] [37, 77, 68, 88, 84, 88]\n",
      "bigrams_list[:5]: [[37, 77], [77, 68], [68, 88], [88, 84], [84, 88]]\n",
      "trigrams_list[:5]: [[37, 77, 68], [77, 68, 88], [68, 88, 84], [88, 84, 88]]\n"
     ]
    }
   ],
   "source": [
    "print('chars_list[:6]',chars_list[:6])\n",
    "print('bigrams_list[:5]:', (bigrams_list[:5]))\n",
    "print('trigrams_list[:5]:', (trigrams_list[:4]))"
   ]
  },
  {
   "cell_type": "code",
   "execution_count": 96,
   "id": "b8b4d79e",
   "metadata": {},
   "outputs": [
    {
     "name": "stdout",
     "output_type": "stream",
     "text": [
      "distribution of bigram counts:\n",
      "            count        freq\n",
      "count  543.000000  543.000000\n",
      "mean    20.007366    0.001766\n",
      "std     35.392162    0.003304\n",
      "min      1.000000    0.000000\n",
      "25%      1.000000    0.000000\n",
      "50%      5.000000    0.000000\n",
      "75%     22.000000    0.002000\n",
      "max    324.000000    0.030000\n"
     ]
    }
   ],
   "source": [
    "bigram_counts_df = (\n",
    "    pd.Series(bigrams_list).apply(lambda b: ','.join([str(c) for c in b]))\n",
    "    .value_counts().rename('count').to_frame().reset_index()\n",
    "    .rename(columns={'index':'c'})\n",
    "    .assign(freq=lambda x: x['count']/len(bigrams_list)).round(3)\n",
    "    .sort_values(by='count',ascending=False)\n",
    ")\n",
    "print('distribution of bigram counts:')\n",
    "print(bigram_counts_df.describe())"
   ]
  },
  {
   "cell_type": "code",
   "execution_count": 99,
   "id": "31827808",
   "metadata": {},
   "outputs": [
    {
     "name": "stdout",
     "output_type": "stream",
     "text": [
      "distribution of trigram counts:\n",
      "             count         freq\n",
      "count  2133.000000  2133.000000\n",
      "mean      5.092827     0.000359\n",
      "std       9.395461     0.000923\n",
      "min       1.000000     0.000000\n",
      "25%       1.000000     0.000000\n",
      "50%       2.000000     0.000000\n",
      "75%       5.000000     0.000000\n",
      "max     158.000000     0.015000\n"
     ]
    }
   ],
   "source": [
    "trigram_counts_df = (\n",
    "    pd.Series(trigrams_list).apply(lambda b: ','.join([str(c) for c in b]))\n",
    "    .value_counts().rename('count').to_frame().reset_index()\n",
    "    .rename(columns={'index':'c'})\n",
    "    .assign(freq=lambda x: x['count']/len(trigrams_list)).round(3)\n",
    "    .sort_values(by='count',ascending=False)\n",
    ")\n",
    "print('distribution of trigram counts:')\n",
    "print(trigram_counts_df.describe())"
   ]
  },
  {
   "cell_type": "code",
   "execution_count": 95,
   "id": "2f107923",
   "metadata": {},
   "outputs": [
    {
     "name": "stdout",
     "output_type": "stream",
     "text": [
      "char counts\n"
     ]
    },
    {
     "data": {
      "text/html": [
       "<div>\n",
       "<style scoped>\n",
       "    .dataframe tbody tr th:only-of-type {\n",
       "        vertical-align: middle;\n",
       "    }\n",
       "\n",
       "    .dataframe tbody tr th {\n",
       "        vertical-align: top;\n",
       "    }\n",
       "\n",
       "    .dataframe thead th {\n",
       "        text-align: right;\n",
       "    }\n",
       "</style>\n",
       "<table border=\"1\" class=\"dataframe\">\n",
       "  <thead>\n",
       "    <tr style=\"text-align: right;\">\n",
       "      <th></th>\n",
       "      <th>c</th>\n",
       "      <th>count</th>\n",
       "      <th>freq</th>\n",
       "    </tr>\n",
       "  </thead>\n",
       "  <tbody>\n",
       "    <tr>\n",
       "      <th>0</th>\n",
       "      <td>102</td>\n",
       "      <td>1863</td>\n",
       "      <td>0.171</td>\n",
       "    </tr>\n",
       "    <tr>\n",
       "      <th>1</th>\n",
       "      <td>90</td>\n",
       "      <td>1038</td>\n",
       "      <td>0.096</td>\n",
       "    </tr>\n",
       "    <tr>\n",
       "      <th>2</th>\n",
       "      <td>40</td>\n",
       "      <td>786</td>\n",
       "      <td>0.072</td>\n",
       "    </tr>\n",
       "    <tr>\n",
       "      <th>3</th>\n",
       "      <td>77</td>\n",
       "      <td>763</td>\n",
       "      <td>0.070</td>\n",
       "    </tr>\n",
       "    <tr>\n",
       "      <th>4</th>\n",
       "      <td>109</td>\n",
       "      <td>650</td>\n",
       "      <td>0.060</td>\n",
       "    </tr>\n",
       "    <tr>\n",
       "      <th>5</th>\n",
       "      <td>58</td>\n",
       "      <td>620</td>\n",
       "      <td>0.057</td>\n",
       "    </tr>\n",
       "    <tr>\n",
       "      <th>6</th>\n",
       "      <td>103</td>\n",
       "      <td>589</td>\n",
       "      <td>0.054</td>\n",
       "    </tr>\n",
       "    <tr>\n",
       "      <th>7</th>\n",
       "      <td>88</td>\n",
       "      <td>568</td>\n",
       "      <td>0.052</td>\n",
       "    </tr>\n",
       "    <tr>\n",
       "      <th>8</th>\n",
       "      <td>42</td>\n",
       "      <td>530</td>\n",
       "      <td>0.049</td>\n",
       "    </tr>\n",
       "    <tr>\n",
       "      <th>9</th>\n",
       "      <td>68</td>\n",
       "      <td>386</td>\n",
       "      <td>0.036</td>\n",
       "    </tr>\n",
       "  </tbody>\n",
       "</table>\n",
       "</div>"
      ],
      "text/plain": [
       "     c  count   freq\n",
       "0  102   1863  0.171\n",
       "1   90   1038  0.096\n",
       "2   40    786  0.072\n",
       "3   77    763  0.070\n",
       "4  109    650  0.060\n",
       "5   58    620  0.057\n",
       "6  103    589  0.054\n",
       "7   88    568  0.052\n",
       "8   42    530  0.049\n",
       "9   68    386  0.036"
      ]
     },
     "execution_count": 95,
     "metadata": {},
     "output_type": "execute_result"
    }
   ],
   "source": [
    "print('char counts')\n",
    "char_counts_df.head(10)"
   ]
  },
  {
   "cell_type": "code",
   "execution_count": 98,
   "id": "80935e0e",
   "metadata": {},
   "outputs": [
    {
     "name": "stdout",
     "output_type": "stream",
     "text": [
      "bigram counts\n"
     ]
    },
    {
     "data": {
      "text/html": [
       "<div>\n",
       "<style scoped>\n",
       "    .dataframe tbody tr th:only-of-type {\n",
       "        vertical-align: middle;\n",
       "    }\n",
       "\n",
       "    .dataframe tbody tr th {\n",
       "        vertical-align: top;\n",
       "    }\n",
       "\n",
       "    .dataframe thead th {\n",
       "        text-align: right;\n",
       "    }\n",
       "</style>\n",
       "<table border=\"1\" class=\"dataframe\">\n",
       "  <thead>\n",
       "    <tr style=\"text-align: right;\">\n",
       "      <th></th>\n",
       "      <th>c</th>\n",
       "      <th>count</th>\n",
       "      <th>freq</th>\n",
       "    </tr>\n",
       "  </thead>\n",
       "  <tbody>\n",
       "    <tr>\n",
       "      <th>0</th>\n",
       "      <td>90,102</td>\n",
       "      <td>324</td>\n",
       "      <td>0.030</td>\n",
       "    </tr>\n",
       "    <tr>\n",
       "      <th>1</th>\n",
       "      <td>102,40</td>\n",
       "      <td>235</td>\n",
       "      <td>0.022</td>\n",
       "    </tr>\n",
       "    <tr>\n",
       "      <th>2</th>\n",
       "      <td>40,57</td>\n",
       "      <td>201</td>\n",
       "      <td>0.019</td>\n",
       "    </tr>\n",
       "    <tr>\n",
       "      <th>3</th>\n",
       "      <td>77,67</td>\n",
       "      <td>195</td>\n",
       "      <td>0.018</td>\n",
       "    </tr>\n",
       "    <tr>\n",
       "      <th>4</th>\n",
       "      <td>102,58</td>\n",
       "      <td>191</td>\n",
       "      <td>0.018</td>\n",
       "    </tr>\n",
       "    <tr>\n",
       "      <th>5</th>\n",
       "      <td>109,102</td>\n",
       "      <td>179</td>\n",
       "      <td>0.016</td>\n",
       "    </tr>\n",
       "    <tr>\n",
       "      <th>6</th>\n",
       "      <td>40,102</td>\n",
       "      <td>160</td>\n",
       "      <td>0.015</td>\n",
       "    </tr>\n",
       "    <tr>\n",
       "      <th>7</th>\n",
       "      <td>57,90</td>\n",
       "      <td>148</td>\n",
       "      <td>0.014</td>\n",
       "    </tr>\n",
       "    <tr>\n",
       "      <th>8</th>\n",
       "      <td>102,109</td>\n",
       "      <td>137</td>\n",
       "      <td>0.013</td>\n",
       "    </tr>\n",
       "    <tr>\n",
       "      <th>9</th>\n",
       "      <td>88,42</td>\n",
       "      <td>130</td>\n",
       "      <td>0.012</td>\n",
       "    </tr>\n",
       "  </tbody>\n",
       "</table>\n",
       "</div>"
      ],
      "text/plain": [
       "         c  count   freq\n",
       "0   90,102    324  0.030\n",
       "1   102,40    235  0.022\n",
       "2    40,57    201  0.019\n",
       "3    77,67    195  0.018\n",
       "4   102,58    191  0.018\n",
       "5  109,102    179  0.016\n",
       "6   40,102    160  0.015\n",
       "7    57,90    148  0.014\n",
       "8  102,109    137  0.013\n",
       "9    88,42    130  0.012"
      ]
     },
     "execution_count": 98,
     "metadata": {},
     "output_type": "execute_result"
    }
   ],
   "source": [
    "print('bigram counts')\n",
    "bigram_counts_df.head(10)"
   ]
  },
  {
   "cell_type": "code",
   "execution_count": 100,
   "id": "c7fbefec",
   "metadata": {},
   "outputs": [
    {
     "name": "stdout",
     "output_type": "stream",
     "text": [
      "trigram counts\n"
     ]
    },
    {
     "data": {
      "text/html": [
       "<div>\n",
       "<style scoped>\n",
       "    .dataframe tbody tr th:only-of-type {\n",
       "        vertical-align: middle;\n",
       "    }\n",
       "\n",
       "    .dataframe tbody tr th {\n",
       "        vertical-align: top;\n",
       "    }\n",
       "\n",
       "    .dataframe thead th {\n",
       "        text-align: right;\n",
       "    }\n",
       "</style>\n",
       "<table border=\"1\" class=\"dataframe\">\n",
       "  <thead>\n",
       "    <tr style=\"text-align: right;\">\n",
       "      <th></th>\n",
       "      <th>c</th>\n",
       "      <th>count</th>\n",
       "      <th>freq</th>\n",
       "    </tr>\n",
       "  </thead>\n",
       "  <tbody>\n",
       "    <tr>\n",
       "      <th>0</th>\n",
       "      <td>102,40,57</td>\n",
       "      <td>158</td>\n",
       "      <td>0.015</td>\n",
       "    </tr>\n",
       "    <tr>\n",
       "      <th>1</th>\n",
       "      <td>40,57,90</td>\n",
       "      <td>120</td>\n",
       "      <td>0.011</td>\n",
       "    </tr>\n",
       "    <tr>\n",
       "      <th>2</th>\n",
       "      <td>91,77,67</td>\n",
       "      <td>102</td>\n",
       "      <td>0.009</td>\n",
       "    </tr>\n",
       "    <tr>\n",
       "      <th>3</th>\n",
       "      <td>102,91,77</td>\n",
       "      <td>101</td>\n",
       "      <td>0.009</td>\n",
       "    </tr>\n",
       "    <tr>\n",
       "      <th>4</th>\n",
       "      <td>57,90,102</td>\n",
       "      <td>99</td>\n",
       "      <td>0.009</td>\n",
       "    </tr>\n",
       "    <tr>\n",
       "      <th>5</th>\n",
       "      <td>77,67,103</td>\n",
       "      <td>80</td>\n",
       "      <td>0.007</td>\n",
       "    </tr>\n",
       "    <tr>\n",
       "      <th>6</th>\n",
       "      <td>102,84,77</td>\n",
       "      <td>76</td>\n",
       "      <td>0.007</td>\n",
       "    </tr>\n",
       "    <tr>\n",
       "      <th>7</th>\n",
       "      <td>102,58,42</td>\n",
       "      <td>64</td>\n",
       "      <td>0.006</td>\n",
       "    </tr>\n",
       "    <tr>\n",
       "      <th>8</th>\n",
       "      <td>77,67,102</td>\n",
       "      <td>62</td>\n",
       "      <td>0.006</td>\n",
       "    </tr>\n",
       "    <tr>\n",
       "      <th>9</th>\n",
       "      <td>102,102,102</td>\n",
       "      <td>60</td>\n",
       "      <td>0.006</td>\n",
       "    </tr>\n",
       "  </tbody>\n",
       "</table>\n",
       "</div>"
      ],
      "text/plain": [
       "             c  count   freq\n",
       "0    102,40,57    158  0.015\n",
       "1     40,57,90    120  0.011\n",
       "2     91,77,67    102  0.009\n",
       "3    102,91,77    101  0.009\n",
       "4    57,90,102     99  0.009\n",
       "5    77,67,103     80  0.007\n",
       "6    102,84,77     76  0.007\n",
       "7    102,58,42     64  0.006\n",
       "8    77,67,102     62  0.006\n",
       "9  102,102,102     60  0.006"
      ]
     },
     "execution_count": 100,
     "metadata": {},
     "output_type": "execute_result"
    }
   ],
   "source": [
    "print('trigram counts')\n",
    "trigram_counts_df.head(10)"
   ]
  },
  {
   "cell_type": "code",
   "execution_count": 92,
   "id": "05d134b9",
   "metadata": {},
   "outputs": [
    {
     "name": "stdout",
     "output_type": "stream",
     "text": [
      "324\n",
      "27\n"
     ]
    },
    {
     "data": {
      "text/plain": [
       "108"
      ]
     },
     "execution_count": 92,
     "metadata": {},
     "output_type": "execute_result"
    }
   ],
   "source": [
    "# Is 102 space? Is there a bigram '102,102': Yes\n",
    "print(bigram_counts.loc['90,102'])\n",
    "print(bigram_counts.loc['90,90'])\n",
    "'90,102' in bigram_counts.index\n",
    "bigram_counts.loc['102,102']"
   ]
  },
  {
   "cell_type": "code",
   "execution_count": 106,
   "id": "863e4c83",
   "metadata": {},
   "outputs": [
    {
     "name": "stdout",
     "output_type": "stream",
     "text": [
      "60 times characters appear 3 times in a row. Unique characters:\n"
     ]
    },
    {
     "data": {
      "text/plain": [
       "102    60\n",
       "dtype: int64"
      ]
     },
     "execution_count": 106,
     "metadata": {},
     "output_type": "execute_result"
    }
   ],
   "source": [
    "# Are there any characters that appear at least 3 times in a row?\n",
    "# i.e. trigrams of all the same character?\n",
    "s_trigrams = []\n",
    "for (a,b,c) in trigrams_list:\n",
    "    if (a==b) and (b==c):\n",
    "        s_trigrams += [a]\n",
    "print('%s times characters appear 3 times in a row. Unique characters:' % len(s_trigrams))\n",
    "pd.Series(s_trigrams).value_counts()"
   ]
  },
  {
   "cell_type": "markdown",
   "id": "df310500",
   "metadata": {},
   "source": [
    "Something strange is going on with char 120; seems only to validate it as a space."
   ]
  },
  {
   "cell_type": "code",
   "execution_count": 112,
   "id": "132c0668",
   "metadata": {},
   "outputs": [],
   "source": [
    "sub_test = sub.try_substitution({102: ' '}, cipher_bytes)\n",
    "# sub_test"
   ]
  },
  {
   "cell_type": "markdown",
   "id": "b8088872",
   "metadata": {},
   "source": [
    "The most common trigram is 'THE'. Assuming '102' is ' ' and then excluding most common trigram '102,40,57', then consider our second most popular trigram: '40,57,90'\n",
    "\n",
    "This makes sense as 'THE' because '40' is 2nd most common character which matches what is known about 'T'. And '57' as 'H' is not in 10 top freqent characters. And '90' a 'E' is 2nd top character after '102' as ' '.\n",
    "\n",
    "So let's try assuming 120=' ' and 40,57,90='THE'"
   ]
  },
  {
   "cell_type": "code",
   "execution_count": 169,
   "id": "ca18c5d8",
   "metadata": {},
   "outputs": [
    {
     "data": {
      "text/plain": [
       "' 37 77 68 88 84 88 e 109     58 42 77 42 91 65 77 67 109   79 e e 72 75 58 84 85   58 t   58 42 91   37 77 88 42 t   72 67 103 88 42 73   t h e   84 77 67 103 109 e 113   91 77 67   58 103 e   120 e 68 84 77 65 e   t 77   109 e 42 72   67 109   58 42 77 42 91 65 77 67 109   79 e e 72 75 58 84 85   108 88 58   t h 88 109   79 77 103 65 92   91 77 67   84 58 42   67 109 e   t h e   79 77 103 65   58 t   58 42 91   t 88 65 e 113   79 77 103   58 42 91   103 e 58 109 77 42   81 81   t 77   103 e 37 77 103 t   37 58 103 t   77 79   t h e   84 77 67 103 109 e   91 77 67   68 88 85 e 72   77 103   72 88 72 42 107 t   68 88 85 e 113   77 103   t 77   109 67 73 73 e 109 t   120 58 91 109   t h 58 t   120 e   84 77 67 68 72   88 65 37 103 77 108 e   77 67 103   t e 58 84 h 88 42 73 92   63 67 88 98     120 e   120 88 68 68   h 58 108 e   77 42 e   88 42 81 84 68 58 109 109   63 67 88 98   77 42   t h e   72 58 t e   68 88 109 t e 72   77 42   t h e   84 77 67 103 109 e   84 58 68 e 42 72 58 103 '"
      ]
     },
     "execution_count": 169,
     "metadata": {},
     "output_type": "execute_result"
    }
   ],
   "source": [
    "substitution = {\n",
    "    102:' ',40: 't', 57:'h',90:'e'\n",
    "}\n",
    "sub_test = sub.try_substitution(substitution, cipher_bytes)\n",
    "sub_test[:1000]"
   ]
  },
  {
   "cell_type": "markdown",
   "id": "4cd34e1a",
   "metadata": {},
   "source": [
    "Find 'a'. 'a' should have high frequency and 'aa' should not be a bigram."
   ]
  },
  {
   "cell_type": "code",
   "execution_count": 149,
   "id": "350eb667",
   "metadata": {},
   "outputs": [
    {
     "name": "stdout",
     "output_type": "stream",
     "text": [
      "c=102; freq=0.171; cc=102,102; freq[102,102]=0.01\n",
      "c=90; freq=0.096; cc=90,90; freq[90,90]=0.002\n",
      "c=40; freq=0.072; cc=40,40; freq[40,40]=0.001\n",
      "c=77; freq=0.07; cc=77,77; freq[77,77]=0.0\n",
      "c=109; freq=0.06; cc=109,109; freq[109,109]=0.005\n",
      "c=58; freq=0.057; cc=58,58; freq[58,58]=0\n",
      "c=103; freq=0.054; cc=103,103; freq[103,103]=0.0\n",
      "c=88; freq=0.052; cc=88,88; freq[88,88]=0\n"
     ]
    }
   ],
   "source": [
    "# Test the most frequent chars 'c' to see if there are no 'cc'\n",
    "for i, r in char_counts_df.sort_values(by='count', ascending=False)[['c','freq']].head(8).iterrows():\n",
    "    c = int(r['c'])\n",
    "    cc = '%s,%s'%(c,c)\n",
    "    print('c=%s; freq=%s; cc=%s; freq[%s]=%s' % (\n",
    "        c, r['freq'], cc, cc, \n",
    "        bigram_counts_df.set_index('c').loc[cc]['freq'] if cc in bigram_counts_df['c'].values else 0\n",
    "    ))    "
   ]
  },
  {
   "cell_type": "markdown",
   "id": "b8c26b52",
   "metadata": {},
   "source": [
    "It seems 'a' is likely 77 or 58.\n",
    "\n",
    "The only one-letter words are 'a' and 'I'. Check occurances of ' a ' by getting trigrams starting and ending in 102=' '."
   ]
  },
  {
   "cell_type": "code",
   "execution_count": 166,
   "id": "54f65277",
   "metadata": {},
   "outputs": [
    {
     "name": "stdout",
     "output_type": "stream",
     "text": [
      "all trigrams starting and beginning with 102:\n"
     ]
    },
    {
     "data": {
      "text/html": [
       "<div>\n",
       "<style scoped>\n",
       "    .dataframe tbody tr th:only-of-type {\n",
       "        vertical-align: middle;\n",
       "    }\n",
       "\n",
       "    .dataframe tbody tr th {\n",
       "        vertical-align: top;\n",
       "    }\n",
       "\n",
       "    .dataframe thead th {\n",
       "        text-align: right;\n",
       "    }\n",
       "</style>\n",
       "<table border=\"1\" class=\"dataframe\">\n",
       "  <thead>\n",
       "    <tr style=\"text-align: right;\">\n",
       "      <th></th>\n",
       "      <th>c</th>\n",
       "      <th>count</th>\n",
       "      <th>freq</th>\n",
       "    </tr>\n",
       "  </thead>\n",
       "  <tbody>\n",
       "    <tr>\n",
       "      <th>9</th>\n",
       "      <td>102,102,102</td>\n",
       "      <td>60</td>\n",
       "      <td>0.006</td>\n",
       "    </tr>\n",
       "    <tr>\n",
       "      <th>48</th>\n",
       "      <td>102,58,102</td>\n",
       "      <td>29</td>\n",
       "      <td>0.003</td>\n",
       "    </tr>\n",
       "    <tr>\n",
       "      <th>1909</th>\n",
       "      <td>102,105,102</td>\n",
       "      <td>1</td>\n",
       "      <td>0.000</td>\n",
       "    </tr>\n",
       "    <tr>\n",
       "      <th>1904</th>\n",
       "      <td>102,60,102</td>\n",
       "      <td>1</td>\n",
       "      <td>0.000</td>\n",
       "    </tr>\n",
       "  </tbody>\n",
       "</table>\n",
       "</div>"
      ],
      "text/plain": [
       "                c  count   freq\n",
       "9     102,102,102     60  0.006\n",
       "48     102,58,102     29  0.003\n",
       "1909  102,105,102      1  0.000\n",
       "1904   102,60,102      1  0.000"
      ]
     },
     "execution_count": 166,
     "metadata": {},
     "output_type": "execute_result"
    }
   ],
   "source": [
    "print('all trigrams starting and beginning with 102:')\n",
    "trigram_counts_df[trigram_counts_df['c'].apply(lambda c: (c[:3]=='102') and (c[-3:] == '102'))]"
   ]
  },
  {
   "cell_type": "markdown",
   "id": "250ef8d3",
   "metadata": {},
   "source": [
    "It seems 'a' is '58' and it seems this document does not contain 'i'.\n",
    "\n",
    "Hehe they gave us a=58 in the example as an extra clue. Thanks.\n",
    "\n",
    "Perhaps 105 or 60 are capital 'A'."
   ]
  },
  {
   "cell_type": "code",
   "execution_count": 171,
   "id": "7c6fdb0e",
   "metadata": {},
   "outputs": [
    {
     "data": {
      "text/plain": [
       "' 37 77 68 88 84 88 e 109     a 42 77 42 91 65 77 67 109   79 e e 72 75 a 84 85   a t   a 42 91   37 77 88 42 t   72 67 103 88 42 73   t h e   84 77 67 103 109 e 113   91 77 67   a 103 e   120 e 68 84 77 65 e   t 77   109 e 42 72   67 109   a 42 77 42 91 65 77 67 109   79 e e 72 75 a 84 85   108 88 a   t h 88 109   79 77 103 65 92   91 77 67   84 a 42   67 109 e   t h e   79 77 103 65   a t   a 42 91   t 88 65 e 113   79 77 103   a 42 91   103 e a 109 77 42   81 81   t 77   103 e 37 77 103 t   37 a 103 t   77 79   t h e   84 77 67 103 109 e   91 77 67   68 88 85 e 72   77 103   72 88 72 42 107 t   68 88 85 e 113   77 103   t 77   109 67 73 73 e 109 t   120 a 91 109   t h a t   120 e   84 77 67 68 72   88 65 37 103 77 108 e   77 67 103   t e a 84 h 88 42 73 92   63 67 88 98     120 e   120 88 68 68   h a 108 e   77 42 e   88 42 81 84 68 a 109 109   63 67 88 98   77 42   t h e   72 a t e   68 88 109 t e 72   77 42   t h e   84 77 67 103 109 e   84 a 68 e 42 72 a 103 92   t h e   63 67 88 '"
      ]
     },
     "execution_count": 171,
     "metadata": {},
     "output_type": "execute_result"
    }
   ],
   "source": [
    "substitution = {\n",
    "    102:' ',40: 't', 57:'h',90:'e', 58:'a'\n",
    "}\n",
    "sub.try_substitution(substitution, cipher_bytes)[:1000]"
   ]
  },
  {
   "cell_type": "markdown",
   "id": "67800ad9",
   "metadata": {},
   "source": [
    "I found some hints online: The order of most frequent letter combinations.\n",
    "https://www3.nd.edu/~busiforc/handouts/cryptography/cryptography%20hints.html\n",
    "\n",
    "- Order Of Frequency Of Most Common Doubles: ss ee tt ff ll mm oo\n",
    "- Order Of Frequency Of Final Letters: E S T D N R Y F L O G H A K M P U W\n",
    "- Most Frequent Two-Letter Words: of, to, in, it, is, be, as, at, so, we, he, by, or, on, do, if, me, my, up, an, go, no, us, am\n",
    "\n",
    "Given this, find 's'."
   ]
  },
  {
   "cell_type": "code",
   "execution_count": 190,
   "id": "3129ad80",
   "metadata": {},
   "outputs": [
    {
     "data": {
      "text/plain": [
       "{102: ' ', 40: 't', 57: 'h', 90: 'e', 58: 'a'}"
      ]
     },
     "execution_count": 190,
     "metadata": {},
     "output_type": "execute_result"
    }
   ],
   "source": [
    "# reminder of what we have so far:\n",
    "substitution"
   ]
  },
  {
   "cell_type": "code",
   "execution_count": 214,
   "id": "ee2f8a37",
   "metadata": {},
   "outputs": [
    {
     "name": "stdout",
     "output_type": "stream",
     "text": [
      "most common doubles:\n"
     ]
    },
    {
     "data": {
      "text/html": [
       "<div>\n",
       "<style scoped>\n",
       "    .dataframe tbody tr th:only-of-type {\n",
       "        vertical-align: middle;\n",
       "    }\n",
       "\n",
       "    .dataframe tbody tr th {\n",
       "        vertical-align: top;\n",
       "    }\n",
       "\n",
       "    .dataframe thead th {\n",
       "        text-align: right;\n",
       "    }\n",
       "</style>\n",
       "<table border=\"1\" class=\"dataframe\">\n",
       "  <thead>\n",
       "    <tr style=\"text-align: right;\">\n",
       "      <th></th>\n",
       "      <th>c</th>\n",
       "      <th>count</th>\n",
       "      <th>freq</th>\n",
       "    </tr>\n",
       "  </thead>\n",
       "  <tbody>\n",
       "    <tr>\n",
       "      <th>17</th>\n",
       "      <td>102,102</td>\n",
       "      <td>108</td>\n",
       "      <td>0.010</td>\n",
       "    </tr>\n",
       "    <tr>\n",
       "      <th>66</th>\n",
       "      <td>109,109</td>\n",
       "      <td>50</td>\n",
       "      <td>0.005</td>\n",
       "    </tr>\n",
       "    <tr>\n",
       "      <th>70</th>\n",
       "      <td>68,68</td>\n",
       "      <td>48</td>\n",
       "      <td>0.004</td>\n",
       "    </tr>\n",
       "    <tr>\n",
       "      <th>122</th>\n",
       "      <td>90,90</td>\n",
       "      <td>27</td>\n",
       "      <td>0.002</td>\n",
       "    </tr>\n",
       "    <tr>\n",
       "      <th>137</th>\n",
       "      <td>79,79</td>\n",
       "      <td>22</td>\n",
       "      <td>0.002</td>\n",
       "    </tr>\n",
       "    <tr>\n",
       "      <th>160</th>\n",
       "      <td>37,37</td>\n",
       "      <td>15</td>\n",
       "      <td>0.001</td>\n",
       "    </tr>\n",
       "    <tr>\n",
       "      <th>221</th>\n",
       "      <td>65,65</td>\n",
       "      <td>8</td>\n",
       "      <td>0.001</td>\n",
       "    </tr>\n",
       "    <tr>\n",
       "      <th>216</th>\n",
       "      <td>40,40</td>\n",
       "      <td>8</td>\n",
       "      <td>0.001</td>\n",
       "    </tr>\n",
       "    <tr>\n",
       "      <th>257</th>\n",
       "      <td>42,42</td>\n",
       "      <td>6</td>\n",
       "      <td>0.001</td>\n",
       "    </tr>\n",
       "    <tr>\n",
       "      <th>281</th>\n",
       "      <td>81,81</td>\n",
       "      <td>5</td>\n",
       "      <td>0.000</td>\n",
       "    </tr>\n",
       "  </tbody>\n",
       "</table>\n",
       "</div>"
      ],
      "text/plain": [
       "           c  count   freq\n",
       "17   102,102    108  0.010\n",
       "66   109,109     50  0.005\n",
       "70     68,68     48  0.004\n",
       "122    90,90     27  0.002\n",
       "137    79,79     22  0.002\n",
       "160    37,37     15  0.001\n",
       "221    65,65      8  0.001\n",
       "216    40,40      8  0.001\n",
       "257    42,42      6  0.001\n",
       "281    81,81      5  0.000"
      ]
     },
     "execution_count": 214,
     "metadata": {},
     "output_type": "execute_result"
    }
   ],
   "source": [
    "# get the common doubles\n",
    "print('most common doubles:')\n",
    "def is_double(c):\n",
    "    [a,b] = c.split(',')\n",
    "    return (a==b)\n",
    "bigram_counts_df[bigram_counts_df['c'].apply(is_double)].head(10)"
   ]
  },
  {
   "cell_type": "code",
   "execution_count": 196,
   "id": "119721f3",
   "metadata": {},
   "outputs": [
    {
     "name": "stdout",
     "output_type": "stream",
     "text": [
      "most common characters before 120=\" \":\n"
     ]
    },
    {
     "data": {
      "text/html": [
       "<div>\n",
       "<style scoped>\n",
       "    .dataframe tbody tr th:only-of-type {\n",
       "        vertical-align: middle;\n",
       "    }\n",
       "\n",
       "    .dataframe tbody tr th {\n",
       "        vertical-align: top;\n",
       "    }\n",
       "\n",
       "    .dataframe thead th {\n",
       "        text-align: right;\n",
       "    }\n",
       "</style>\n",
       "<table border=\"1\" class=\"dataframe\">\n",
       "  <thead>\n",
       "    <tr style=\"text-align: right;\">\n",
       "      <th></th>\n",
       "      <th>c</th>\n",
       "      <th>count</th>\n",
       "      <th>freq</th>\n",
       "    </tr>\n",
       "  </thead>\n",
       "  <tbody>\n",
       "    <tr>\n",
       "      <th>0</th>\n",
       "      <td>90,102</td>\n",
       "      <td>324</td>\n",
       "      <td>0.030</td>\n",
       "    </tr>\n",
       "    <tr>\n",
       "      <th>5</th>\n",
       "      <td>109,102</td>\n",
       "      <td>179</td>\n",
       "      <td>0.016</td>\n",
       "    </tr>\n",
       "    <tr>\n",
       "      <th>6</th>\n",
       "      <td>40,102</td>\n",
       "      <td>160</td>\n",
       "      <td>0.015</td>\n",
       "    </tr>\n",
       "    <tr>\n",
       "      <th>12</th>\n",
       "      <td>103,102</td>\n",
       "      <td>124</td>\n",
       "      <td>0.011</td>\n",
       "    </tr>\n",
       "    <tr>\n",
       "      <th>15</th>\n",
       "      <td>42,102</td>\n",
       "      <td>113</td>\n",
       "      <td>0.010</td>\n",
       "    </tr>\n",
       "  </tbody>\n",
       "</table>\n",
       "</div>"
      ],
      "text/plain": [
       "          c  count   freq\n",
       "0    90,102    324  0.030\n",
       "5   109,102    179  0.016\n",
       "6    40,102    160  0.015\n",
       "12  103,102    124  0.011\n",
       "15   42,102    113  0.010"
      ]
     },
     "execution_count": 196,
     "metadata": {},
     "output_type": "execute_result"
    }
   ],
   "source": [
    "# get the most common final characters. i.e. characters before 120=' '\n",
    "print('most common characters before 120=\" \":')\n",
    "bigram_counts_df[bigram_counts_df['c'].apply(lambda c: c[-3:]=='102')].head()"
   ]
  },
  {
   "cell_type": "markdown",
   "id": "d3021937",
   "metadata": {},
   "source": [
    "'s' clearly seems to be 109. "
   ]
  },
  {
   "cell_type": "code",
   "execution_count": 198,
   "id": "ce23a356",
   "metadata": {},
   "outputs": [
    {
     "data": {
      "text/plain": [
       "' 37 77 68 88 84 88 e s     a 42 77 42 91 65 77 67 s   79 e e 72 75 a 84 85   a t   a 42 91   37 77 88 42 t   72 67 103 88 42 73   t h e   84 77 67 103 s e 113   91 77 67   a 103 e   120 e 68 84 77 65 e   t 77   s e 42 72   67 s   a 42 77 42 91 65 77 67 s   79 e e 72 75 a 84 85   108 88 a   t h 88 s   79 77 103 65 92   91 77 67   84 a 42   67 s e   t h e   79 77 103 65   a t   a 42 91   t 88 65 e 113   79 77 103   a 42 91   103 e a s 77 42   81 81   t 77   103 e 37 77 103 t   37 a 103 t   77 79  '"
      ]
     },
     "execution_count": 198,
     "metadata": {},
     "output_type": "execute_result"
    }
   ],
   "source": [
    "substitution = {\n",
    "    102:' ',40: 't', 57:'h',90:'e', 58:'a', 109:'s'\n",
    "}\n",
    "sub.try_substitution(substitution, cipher_bytes)[:500]"
   ]
  },
  {
   "cell_type": "markdown",
   "id": "a3eb2ac8",
   "metadata": {},
   "source": [
    "Look at most common 2-letter words.\n",
    "\n",
    "Use this in combination with character frequencies and known characters to find 'o'.\n",
    "\n",
    "Do this by getting 4-grams."
   ]
  },
  {
   "cell_type": "code",
   "execution_count": 206,
   "id": "c345dd05",
   "metadata": {},
   "outputs": [
    {
     "data": {
      "text/html": [
       "<div>\n",
       "<style scoped>\n",
       "    .dataframe tbody tr th:only-of-type {\n",
       "        vertical-align: middle;\n",
       "    }\n",
       "\n",
       "    .dataframe tbody tr th {\n",
       "        vertical-align: top;\n",
       "    }\n",
       "\n",
       "    .dataframe thead th {\n",
       "        text-align: right;\n",
       "    }\n",
       "</style>\n",
       "<table border=\"1\" class=\"dataframe\">\n",
       "  <thead>\n",
       "    <tr style=\"text-align: right;\">\n",
       "      <th></th>\n",
       "      <th>c</th>\n",
       "      <th>count</th>\n",
       "      <th>freq</th>\n",
       "    </tr>\n",
       "  </thead>\n",
       "  <tbody>\n",
       "    <tr>\n",
       "      <th>0</th>\n",
       "      <td>102,40,57,90</td>\n",
       "      <td>110</td>\n",
       "      <td>0.010</td>\n",
       "    </tr>\n",
       "    <tr>\n",
       "      <th>1</th>\n",
       "      <td>102,91,77,67</td>\n",
       "      <td>101</td>\n",
       "      <td>0.009</td>\n",
       "    </tr>\n",
       "    <tr>\n",
       "      <th>2</th>\n",
       "      <td>40,57,90,102</td>\n",
       "      <td>99</td>\n",
       "      <td>0.009</td>\n",
       "    </tr>\n",
       "    <tr>\n",
       "      <th>3</th>\n",
       "      <td>91,77,67,102</td>\n",
       "      <td>62</td>\n",
       "      <td>0.006</td>\n",
       "    </tr>\n",
       "    <tr>\n",
       "      <th>4</th>\n",
       "      <td>88,42,73,102</td>\n",
       "      <td>49</td>\n",
       "      <td>0.005</td>\n",
       "    </tr>\n",
       "  </tbody>\n",
       "</table>\n",
       "</div>"
      ],
      "text/plain": [
       "              c  count   freq\n",
       "0  102,40,57,90    110  0.010\n",
       "1  102,91,77,67    101  0.009\n",
       "2  40,57,90,102     99  0.009\n",
       "3  91,77,67,102     62  0.006\n",
       "4  88,42,73,102     49  0.005"
      ]
     },
     "execution_count": 206,
     "metadata": {},
     "output_type": "execute_result"
    }
   ],
   "source": [
    "# Get the 4grams\n",
    "fourgrams_list = []\n",
    "for i in range(3, len(chars_list)):\n",
    "    fourgrams_list += [[chars_list[i-3], chars_list[i-2], chars_list[i-1], chars_list[i]]]\n",
    "\n",
    "fourgrams_df = (\n",
    "    pd.Series(fourgrams_list).apply(lambda b: ','.join([str(c) for c in b]))\n",
    "    .value_counts().rename('count').to_frame().reset_index()\n",
    "    .rename(columns={'index':'c'})\n",
    "    .assign(freq=lambda x: x['count']/len(fourgrams_list)).round(3)\n",
    "    .sort_values(by='count',ascending=False)\n",
    ")\n",
    "fourgrams_df.head()"
   ]
  },
  {
   "cell_type": "code",
   "execution_count": 216,
   "id": "9d3c8977",
   "metadata": {},
   "outputs": [
    {
     "name": "stdout",
     "output_type": "stream",
     "text": [
      "most common 2-letter words:\n"
     ]
    },
    {
     "data": {
      "text/html": [
       "<div>\n",
       "<style scoped>\n",
       "    .dataframe tbody tr th:only-of-type {\n",
       "        vertical-align: middle;\n",
       "    }\n",
       "\n",
       "    .dataframe tbody tr th {\n",
       "        vertical-align: top;\n",
       "    }\n",
       "\n",
       "    .dataframe thead th {\n",
       "        text-align: right;\n",
       "    }\n",
       "</style>\n",
       "<table border=\"1\" class=\"dataframe\">\n",
       "  <thead>\n",
       "    <tr style=\"text-align: right;\">\n",
       "      <th></th>\n",
       "      <th>c</th>\n",
       "      <th>count</th>\n",
       "      <th>freq</th>\n",
       "    </tr>\n",
       "  </thead>\n",
       "  <tbody>\n",
       "    <tr>\n",
       "      <th>7</th>\n",
       "      <td>102,40,77,102</td>\n",
       "      <td>44</td>\n",
       "      <td>0.004</td>\n",
       "    </tr>\n",
       "    <tr>\n",
       "      <th>10</th>\n",
       "      <td>102,102,102,102</td>\n",
       "      <td>39</td>\n",
       "      <td>0.004</td>\n",
       "    </tr>\n",
       "    <tr>\n",
       "      <th>14</th>\n",
       "      <td>102,77,79,102</td>\n",
       "      <td>32</td>\n",
       "      <td>0.003</td>\n",
       "    </tr>\n",
       "    <tr>\n",
       "      <th>25</th>\n",
       "      <td>102,77,42,102</td>\n",
       "      <td>24</td>\n",
       "      <td>0.002</td>\n",
       "    </tr>\n",
       "    <tr>\n",
       "      <th>27</th>\n",
       "      <td>102,88,42,102</td>\n",
       "      <td>23</td>\n",
       "      <td>0.002</td>\n",
       "    </tr>\n",
       "    <tr>\n",
       "      <th>26</th>\n",
       "      <td>102,120,90,102</td>\n",
       "      <td>23</td>\n",
       "      <td>0.002</td>\n",
       "    </tr>\n",
       "    <tr>\n",
       "      <th>33</th>\n",
       "      <td>102,77,103,102</td>\n",
       "      <td>21</td>\n",
       "      <td>0.002</td>\n",
       "    </tr>\n",
       "    <tr>\n",
       "      <th>38</th>\n",
       "      <td>102,88,109,102</td>\n",
       "      <td>21</td>\n",
       "      <td>0.002</td>\n",
       "    </tr>\n",
       "    <tr>\n",
       "      <th>67</th>\n",
       "      <td>102,88,79,102</td>\n",
       "      <td>16</td>\n",
       "      <td>0.001</td>\n",
       "    </tr>\n",
       "    <tr>\n",
       "      <th>119</th>\n",
       "      <td>102,58,109,102</td>\n",
       "      <td>12</td>\n",
       "      <td>0.001</td>\n",
       "    </tr>\n",
       "  </tbody>\n",
       "</table>\n",
       "</div>"
      ],
      "text/plain": [
       "                   c  count   freq\n",
       "7      102,40,77,102     44  0.004\n",
       "10   102,102,102,102     39  0.004\n",
       "14     102,77,79,102     32  0.003\n",
       "25     102,77,42,102     24  0.002\n",
       "27     102,88,42,102     23  0.002\n",
       "26    102,120,90,102     23  0.002\n",
       "33    102,77,103,102     21  0.002\n",
       "38    102,88,109,102     21  0.002\n",
       "67     102,88,79,102     16  0.001\n",
       "119   102,58,109,102     12  0.001"
      ]
     },
     "execution_count": 216,
     "metadata": {},
     "output_type": "execute_result"
    }
   ],
   "source": [
    "# Get the 4grams that start and end with 102=' '\n",
    "print('most common 2-letter words:')\n",
    "fourgrams_df[fourgrams_df['c'].apply(lambda c: c[:3]=='102' and (c[-3:]=='102'))].head(10)"
   ]
  },
  {
   "cell_type": "markdown",
   "id": "70d1febc",
   "metadata": {},
   "source": [
    "77 seems likely 'o' because\n",
    "- 77 commonly comes after 't'=40 --> 'to'\n",
    "- 77 commonly comes first in 2-letter words\n",
    "- 77 among most frequent characters"
   ]
  },
  {
   "cell_type": "markdown",
   "id": "60dc8f33",
   "metadata": {},
   "source": [
    "Find 'n' as a letter commonly in 2-letter words following 'o' or 'a'"
   ]
  },
  {
   "cell_type": "code",
   "execution_count": 230,
   "id": "47670084",
   "metadata": {},
   "outputs": [
    {
     "data": {
      "text/html": [
       "<div>\n",
       "<style scoped>\n",
       "    .dataframe tbody tr th:only-of-type {\n",
       "        vertical-align: middle;\n",
       "    }\n",
       "\n",
       "    .dataframe tbody tr th {\n",
       "        vertical-align: top;\n",
       "    }\n",
       "\n",
       "    .dataframe thead th {\n",
       "        text-align: right;\n",
       "    }\n",
       "</style>\n",
       "<table border=\"1\" class=\"dataframe\">\n",
       "  <thead>\n",
       "    <tr style=\"text-align: right;\">\n",
       "      <th></th>\n",
       "      <th>c</th>\n",
       "      <th>count</th>\n",
       "      <th>freq</th>\n",
       "    </tr>\n",
       "  </thead>\n",
       "  <tbody>\n",
       "    <tr>\n",
       "      <th>7</th>\n",
       "      <td>,t,o,</td>\n",
       "      <td>44</td>\n",
       "      <td>0.004</td>\n",
       "    </tr>\n",
       "    <tr>\n",
       "      <th>10</th>\n",
       "      <td>, , ,</td>\n",
       "      <td>39</td>\n",
       "      <td>0.004</td>\n",
       "    </tr>\n",
       "    <tr>\n",
       "      <th>14</th>\n",
       "      <td>,o,79,</td>\n",
       "      <td>32</td>\n",
       "      <td>0.003</td>\n",
       "    </tr>\n",
       "    <tr>\n",
       "      <th>25</th>\n",
       "      <td>,o,42,</td>\n",
       "      <td>24</td>\n",
       "      <td>0.002</td>\n",
       "    </tr>\n",
       "    <tr>\n",
       "      <th>27</th>\n",
       "      <td>,88,42,</td>\n",
       "      <td>23</td>\n",
       "      <td>0.002</td>\n",
       "    </tr>\n",
       "    <tr>\n",
       "      <th>26</th>\n",
       "      <td>,120,e,</td>\n",
       "      <td>23</td>\n",
       "      <td>0.002</td>\n",
       "    </tr>\n",
       "    <tr>\n",
       "      <th>33</th>\n",
       "      <td>,o,103,</td>\n",
       "      <td>21</td>\n",
       "      <td>0.002</td>\n",
       "    </tr>\n",
       "    <tr>\n",
       "      <th>38</th>\n",
       "      <td>,88,s,</td>\n",
       "      <td>21</td>\n",
       "      <td>0.002</td>\n",
       "    </tr>\n",
       "    <tr>\n",
       "      <th>67</th>\n",
       "      <td>,88,79,</td>\n",
       "      <td>16</td>\n",
       "      <td>0.001</td>\n",
       "    </tr>\n",
       "    <tr>\n",
       "      <th>119</th>\n",
       "      <td>,a,s,</td>\n",
       "      <td>12</td>\n",
       "      <td>0.001</td>\n",
       "    </tr>\n",
       "    <tr>\n",
       "      <th>217</th>\n",
       "      <td>,75,e,</td>\n",
       "      <td>7</td>\n",
       "      <td>0.001</td>\n",
       "    </tr>\n",
       "    <tr>\n",
       "      <th>475</th>\n",
       "      <td>,a,t,</td>\n",
       "      <td>5</td>\n",
       "      <td>0.000</td>\n",
       "    </tr>\n",
       "    <tr>\n",
       "      <th>468</th>\n",
       "      <td>,81,81,</td>\n",
       "      <td>5</td>\n",
       "      <td>0.000</td>\n",
       "    </tr>\n",
       "    <tr>\n",
       "      <th>423</th>\n",
       "      <td>,67,37,</td>\n",
       "      <td>5</td>\n",
       "      <td>0.000</td>\n",
       "    </tr>\n",
       "    <tr>\n",
       "      <th>414</th>\n",
       "      <td>,a,42,</td>\n",
       "      <td>5</td>\n",
       "      <td>0.000</td>\n",
       "    </tr>\n",
       "  </tbody>\n",
       "</table>\n",
       "</div>"
      ],
      "text/plain": [
       "             c  count   freq\n",
       "7       ,t,o,      44  0.004\n",
       "10      , , ,      39  0.004\n",
       "14     ,o,79,      32  0.003\n",
       "25     ,o,42,      24  0.002\n",
       "27    ,88,42,      23  0.002\n",
       "26    ,120,e,      23  0.002\n",
       "33    ,o,103,      21  0.002\n",
       "38     ,88,s,      21  0.002\n",
       "67    ,88,79,      16  0.001\n",
       "119     ,a,s,      12  0.001\n",
       "217    ,75,e,       7  0.001\n",
       "475     ,a,t,       5  0.000\n",
       "468   ,81,81,       5  0.000\n",
       "423   ,67,37,       5  0.000\n",
       "414    ,a,42,       5  0.000"
      ]
     },
     "execution_count": 230,
     "metadata": {},
     "output_type": "execute_result"
    }
   ],
   "source": [
    "# I need a helper method to look at this with substitutions\n",
    "def apply_subs(c):\n",
    "    cs = c.split(',')\n",
    "    ms = [substitution[int(ci)] if int(ci) in substitution else ci for ci in cs]\n",
    "    return ','.join(ms)\n",
    "\n",
    "df = fourgrams_df[fourgrams_df['c'].apply(lambda c: c[:3]=='102' and (c[-3:]=='102'))].head(15).copy()\n",
    "df['c'] = df['c'].apply(apply_subs)\n",
    "df"
   ]
  },
  {
   "cell_type": "markdown",
   "id": "e2ae2217",
   "metadata": {},
   "source": [
    "'n' seems likely 42. 'i' seems likely '88'. In which case 'f' seems likely 79."
   ]
  },
  {
   "cell_type": "code",
   "execution_count": 232,
   "id": "61dba723",
   "metadata": {},
   "outputs": [
    {
     "data": {
      "text/html": [
       "<div>\n",
       "<style scoped>\n",
       "    .dataframe tbody tr th:only-of-type {\n",
       "        vertical-align: middle;\n",
       "    }\n",
       "\n",
       "    .dataframe tbody tr th {\n",
       "        vertical-align: top;\n",
       "    }\n",
       "\n",
       "    .dataframe thead th {\n",
       "        text-align: right;\n",
       "    }\n",
       "</style>\n",
       "<table border=\"1\" class=\"dataframe\">\n",
       "  <thead>\n",
       "    <tr style=\"text-align: right;\">\n",
       "      <th></th>\n",
       "      <th>c</th>\n",
       "      <th>count</th>\n",
       "      <th>freq</th>\n",
       "    </tr>\n",
       "  </thead>\n",
       "  <tbody>\n",
       "    <tr>\n",
       "      <th>7</th>\n",
       "      <td>,t,o,</td>\n",
       "      <td>44</td>\n",
       "      <td>0.004</td>\n",
       "    </tr>\n",
       "    <tr>\n",
       "      <th>10</th>\n",
       "      <td>, , ,</td>\n",
       "      <td>39</td>\n",
       "      <td>0.004</td>\n",
       "    </tr>\n",
       "    <tr>\n",
       "      <th>14</th>\n",
       "      <td>,o,f,</td>\n",
       "      <td>32</td>\n",
       "      <td>0.003</td>\n",
       "    </tr>\n",
       "    <tr>\n",
       "      <th>25</th>\n",
       "      <td>,o,n,</td>\n",
       "      <td>24</td>\n",
       "      <td>0.002</td>\n",
       "    </tr>\n",
       "    <tr>\n",
       "      <th>27</th>\n",
       "      <td>,i,n,</td>\n",
       "      <td>23</td>\n",
       "      <td>0.002</td>\n",
       "    </tr>\n",
       "    <tr>\n",
       "      <th>26</th>\n",
       "      <td>,120,e,</td>\n",
       "      <td>23</td>\n",
       "      <td>0.002</td>\n",
       "    </tr>\n",
       "    <tr>\n",
       "      <th>33</th>\n",
       "      <td>,o,103,</td>\n",
       "      <td>21</td>\n",
       "      <td>0.002</td>\n",
       "    </tr>\n",
       "    <tr>\n",
       "      <th>38</th>\n",
       "      <td>,i,s,</td>\n",
       "      <td>21</td>\n",
       "      <td>0.002</td>\n",
       "    </tr>\n",
       "    <tr>\n",
       "      <th>67</th>\n",
       "      <td>,i,f,</td>\n",
       "      <td>16</td>\n",
       "      <td>0.001</td>\n",
       "    </tr>\n",
       "    <tr>\n",
       "      <th>119</th>\n",
       "      <td>,a,s,</td>\n",
       "      <td>12</td>\n",
       "      <td>0.001</td>\n",
       "    </tr>\n",
       "    <tr>\n",
       "      <th>217</th>\n",
       "      <td>,75,e,</td>\n",
       "      <td>7</td>\n",
       "      <td>0.001</td>\n",
       "    </tr>\n",
       "    <tr>\n",
       "      <th>475</th>\n",
       "      <td>,a,t,</td>\n",
       "      <td>5</td>\n",
       "      <td>0.000</td>\n",
       "    </tr>\n",
       "    <tr>\n",
       "      <th>468</th>\n",
       "      <td>,81,81,</td>\n",
       "      <td>5</td>\n",
       "      <td>0.000</td>\n",
       "    </tr>\n",
       "    <tr>\n",
       "      <th>423</th>\n",
       "      <td>,67,37,</td>\n",
       "      <td>5</td>\n",
       "      <td>0.000</td>\n",
       "    </tr>\n",
       "    <tr>\n",
       "      <th>414</th>\n",
       "      <td>,a,n,</td>\n",
       "      <td>5</td>\n",
       "      <td>0.000</td>\n",
       "    </tr>\n",
       "  </tbody>\n",
       "</table>\n",
       "</div>"
      ],
      "text/plain": [
       "             c  count   freq\n",
       "7       ,t,o,      44  0.004\n",
       "10      , , ,      39  0.004\n",
       "14      ,o,f,      32  0.003\n",
       "25      ,o,n,      24  0.002\n",
       "27      ,i,n,      23  0.002\n",
       "26    ,120,e,      23  0.002\n",
       "33    ,o,103,      21  0.002\n",
       "38      ,i,s,      21  0.002\n",
       "67      ,i,f,      16  0.001\n",
       "119     ,a,s,      12  0.001\n",
       "217    ,75,e,       7  0.001\n",
       "475     ,a,t,       5  0.000\n",
       "468   ,81,81,       5  0.000\n",
       "423   ,67,37,       5  0.000\n",
       "414     ,a,n,       5  0.000"
      ]
     },
     "execution_count": 232,
     "metadata": {},
     "output_type": "execute_result"
    }
   ],
   "source": [
    "substitution = {\n",
    "    102:' ',40: 't', 57:'h',90:'e', 58:'a', 109:'s', 77:'o', 42: 'n', 88: 'i', 79: 'f'\n",
    "}\n",
    "df = fourgrams_df[fourgrams_df['c'].apply(lambda c: c[:3]=='102' and (c[-3:]=='102'))].head(15).copy()\n",
    "df['c'] = df['c'].apply(apply_subs)\n",
    "df"
   ]
  },
  {
   "cell_type": "markdown",
   "id": "99092a71",
   "metadata": {},
   "source": [
    "Find 'd' as the letter that completes common word 'and'"
   ]
  },
  {
   "cell_type": "code",
   "execution_count": 233,
   "id": "af76f3ba",
   "metadata": {},
   "outputs": [
    {
     "data": {
      "text/html": [
       "<div>\n",
       "<style scoped>\n",
       "    .dataframe tbody tr th:only-of-type {\n",
       "        vertical-align: middle;\n",
       "    }\n",
       "\n",
       "    .dataframe tbody tr th {\n",
       "        vertical-align: top;\n",
       "    }\n",
       "\n",
       "    .dataframe thead th {\n",
       "        text-align: right;\n",
       "    }\n",
       "</style>\n",
       "<table border=\"1\" class=\"dataframe\">\n",
       "  <thead>\n",
       "    <tr style=\"text-align: right;\">\n",
       "      <th></th>\n",
       "      <th>c</th>\n",
       "      <th>count</th>\n",
       "      <th>freq</th>\n",
       "    </tr>\n",
       "  </thead>\n",
       "  <tbody>\n",
       "    <tr>\n",
       "      <th>0</th>\n",
       "      <td>102,40,57,90,102</td>\n",
       "      <td>99</td>\n",
       "      <td>0.009</td>\n",
       "    </tr>\n",
       "    <tr>\n",
       "      <th>1</th>\n",
       "      <td>102,91,77,67,102</td>\n",
       "      <td>62</td>\n",
       "      <td>0.006</td>\n",
       "    </tr>\n",
       "    <tr>\n",
       "      <th>2</th>\n",
       "      <td>102,91,77,67,103</td>\n",
       "      <td>39</td>\n",
       "      <td>0.004</td>\n",
       "    </tr>\n",
       "    <tr>\n",
       "      <th>3</th>\n",
       "      <td>102,58,42,72,102</td>\n",
       "      <td>39</td>\n",
       "      <td>0.004</td>\n",
       "    </tr>\n",
       "    <tr>\n",
       "      <th>4</th>\n",
       "      <td>91,77,67,103,102</td>\n",
       "      <td>39</td>\n",
       "      <td>0.004</td>\n",
       "    </tr>\n",
       "  </tbody>\n",
       "</table>\n",
       "</div>"
      ],
      "text/plain": [
       "                  c  count   freq\n",
       "0  102,40,57,90,102     99  0.009\n",
       "1  102,91,77,67,102     62  0.006\n",
       "2  102,91,77,67,103     39  0.004\n",
       "3  102,58,42,72,102     39  0.004\n",
       "4  91,77,67,103,102     39  0.004"
      ]
     },
     "execution_count": 233,
     "metadata": {},
     "output_type": "execute_result"
    }
   ],
   "source": [
    "# Get the 5grams\n",
    "fivegrams_list = []\n",
    "for i in range(4, len(chars_list)):\n",
    "    fivegrams_list += [[chars_list[i-4], chars_list[i-3], chars_list[i-2], chars_list[i-1], chars_list[i]]]\n",
    "\n",
    "fivegrams_df = (\n",
    "    pd.Series(fivegrams_list).apply(lambda b: ','.join([str(c) for c in b]))\n",
    "    .value_counts().rename('count').to_frame().reset_index()\n",
    "    .rename(columns={'index':'c'})\n",
    "    .assign(freq=lambda x: x['count']/len(fourgrams_list)).round(3)\n",
    "    .sort_values(by='count',ascending=False)\n",
    ")\n",
    "fivegrams_df.head()"
   ]
  },
  {
   "cell_type": "code",
   "execution_count": 235,
   "id": "97d14dae",
   "metadata": {},
   "outputs": [
    {
     "data": {
      "text/html": [
       "<div>\n",
       "<style scoped>\n",
       "    .dataframe tbody tr th:only-of-type {\n",
       "        vertical-align: middle;\n",
       "    }\n",
       "\n",
       "    .dataframe tbody tr th {\n",
       "        vertical-align: top;\n",
       "    }\n",
       "\n",
       "    .dataframe thead th {\n",
       "        text-align: right;\n",
       "    }\n",
       "</style>\n",
       "<table border=\"1\" class=\"dataframe\">\n",
       "  <thead>\n",
       "    <tr style=\"text-align: right;\">\n",
       "      <th></th>\n",
       "      <th>c</th>\n",
       "      <th>count</th>\n",
       "      <th>freq</th>\n",
       "    </tr>\n",
       "  </thead>\n",
       "  <tbody>\n",
       "    <tr>\n",
       "      <th>0</th>\n",
       "      <td>,t,h,e,</td>\n",
       "      <td>99</td>\n",
       "      <td>0.009</td>\n",
       "    </tr>\n",
       "    <tr>\n",
       "      <th>1</th>\n",
       "      <td>,91,o,67,</td>\n",
       "      <td>62</td>\n",
       "      <td>0.006</td>\n",
       "    </tr>\n",
       "    <tr>\n",
       "      <th>3</th>\n",
       "      <td>,a,n,72,</td>\n",
       "      <td>39</td>\n",
       "      <td>0.004</td>\n",
       "    </tr>\n",
       "    <tr>\n",
       "      <th>5</th>\n",
       "      <td>,f,o,103,</td>\n",
       "      <td>30</td>\n",
       "      <td>0.003</td>\n",
       "    </tr>\n",
       "    <tr>\n",
       "      <th>14</th>\n",
       "      <td>, , , ,</td>\n",
       "      <td>21</td>\n",
       "      <td>0.002</td>\n",
       "    </tr>\n",
       "    <tr>\n",
       "      <th>25</th>\n",
       "      <td>,a,103,e,</td>\n",
       "      <td>18</td>\n",
       "      <td>0.002</td>\n",
       "    </tr>\n",
       "    <tr>\n",
       "      <th>79</th>\n",
       "      <td>,n,o,t,</td>\n",
       "      <td>12</td>\n",
       "      <td>0.001</td>\n",
       "    </tr>\n",
       "    <tr>\n",
       "      <th>95</th>\n",
       "      <td>,65,a,91,</td>\n",
       "      <td>11</td>\n",
       "      <td>0.001</td>\n",
       "    </tr>\n",
       "    <tr>\n",
       "      <th>88</th>\n",
       "      <td>,84,a,n,</td>\n",
       "      <td>11</td>\n",
       "      <td>0.001</td>\n",
       "    </tr>\n",
       "    <tr>\n",
       "      <th>118</th>\n",
       "      <td>, ,120,e,</td>\n",
       "      <td>9</td>\n",
       "      <td>0.001</td>\n",
       "    </tr>\n",
       "  </tbody>\n",
       "</table>\n",
       "</div>"
      ],
      "text/plain": [
       "               c  count   freq\n",
       "0       ,t,h,e,      99  0.009\n",
       "1     ,91,o,67,      62  0.006\n",
       "3      ,a,n,72,      39  0.004\n",
       "5     ,f,o,103,      30  0.003\n",
       "14      , , , ,      21  0.002\n",
       "25    ,a,103,e,      18  0.002\n",
       "79      ,n,o,t,      12  0.001\n",
       "95    ,65,a,91,      11  0.001\n",
       "88     ,84,a,n,      11  0.001\n",
       "118   , ,120,e,       9  0.001"
      ]
     },
     "execution_count": 235,
     "metadata": {},
     "output_type": "execute_result"
    }
   ],
   "source": [
    "df = fivegrams_df[fivegrams_df['c'].apply(lambda c: c[:3]=='102' and (c[-3:]=='102'))].head(10).copy()\n",
    "df['c'] = df['c'].apply(apply_subs)\n",
    "df"
   ]
  },
  {
   "cell_type": "markdown",
   "id": "a4c69d07",
   "metadata": {},
   "source": [
    "d seems to be 72; r seems to be 103.\n",
    "\n",
    "And seems 'y' likely 91 and 'u' likely 67."
   ]
  },
  {
   "cell_type": "code",
   "execution_count": 238,
   "id": "f17b1a9d",
   "metadata": {},
   "outputs": [
    {
     "data": {
      "text/html": [
       "<div>\n",
       "<style scoped>\n",
       "    .dataframe tbody tr th:only-of-type {\n",
       "        vertical-align: middle;\n",
       "    }\n",
       "\n",
       "    .dataframe tbody tr th {\n",
       "        vertical-align: top;\n",
       "    }\n",
       "\n",
       "    .dataframe thead th {\n",
       "        text-align: right;\n",
       "    }\n",
       "</style>\n",
       "<table border=\"1\" class=\"dataframe\">\n",
       "  <thead>\n",
       "    <tr style=\"text-align: right;\">\n",
       "      <th></th>\n",
       "      <th>c</th>\n",
       "      <th>count</th>\n",
       "      <th>freq</th>\n",
       "    </tr>\n",
       "  </thead>\n",
       "  <tbody>\n",
       "    <tr>\n",
       "      <th>0</th>\n",
       "      <td>,t,h,e,</td>\n",
       "      <td>99</td>\n",
       "      <td>0.009</td>\n",
       "    </tr>\n",
       "    <tr>\n",
       "      <th>1</th>\n",
       "      <td>,y,o,u,</td>\n",
       "      <td>62</td>\n",
       "      <td>0.006</td>\n",
       "    </tr>\n",
       "    <tr>\n",
       "      <th>3</th>\n",
       "      <td>,a,n,d,</td>\n",
       "      <td>39</td>\n",
       "      <td>0.004</td>\n",
       "    </tr>\n",
       "    <tr>\n",
       "      <th>5</th>\n",
       "      <td>,f,o,r,</td>\n",
       "      <td>30</td>\n",
       "      <td>0.003</td>\n",
       "    </tr>\n",
       "    <tr>\n",
       "      <th>14</th>\n",
       "      <td>, , , ,</td>\n",
       "      <td>21</td>\n",
       "      <td>0.002</td>\n",
       "    </tr>\n",
       "    <tr>\n",
       "      <th>25</th>\n",
       "      <td>,a,r,e,</td>\n",
       "      <td>18</td>\n",
       "      <td>0.002</td>\n",
       "    </tr>\n",
       "    <tr>\n",
       "      <th>79</th>\n",
       "      <td>,n,o,t,</td>\n",
       "      <td>12</td>\n",
       "      <td>0.001</td>\n",
       "    </tr>\n",
       "    <tr>\n",
       "      <th>95</th>\n",
       "      <td>,65,a,y,</td>\n",
       "      <td>11</td>\n",
       "      <td>0.001</td>\n",
       "    </tr>\n",
       "    <tr>\n",
       "      <th>88</th>\n",
       "      <td>,84,a,n,</td>\n",
       "      <td>11</td>\n",
       "      <td>0.001</td>\n",
       "    </tr>\n",
       "    <tr>\n",
       "      <th>118</th>\n",
       "      <td>, ,120,e,</td>\n",
       "      <td>9</td>\n",
       "      <td>0.001</td>\n",
       "    </tr>\n",
       "    <tr>\n",
       "      <th>177</th>\n",
       "      <td>,u,s,e,</td>\n",
       "      <td>7</td>\n",
       "      <td>0.001</td>\n",
       "    </tr>\n",
       "    <tr>\n",
       "      <th>180</th>\n",
       "      <td>,t,a,s,</td>\n",
       "      <td>7</td>\n",
       "      <td>0.001</td>\n",
       "    </tr>\n",
       "    <tr>\n",
       "      <th>163</th>\n",
       "      <td>,a,n,y,</td>\n",
       "      <td>7</td>\n",
       "      <td>0.001</td>\n",
       "    </tr>\n",
       "    <tr>\n",
       "      <th>314</th>\n",
       "      <td>,d,u,e,</td>\n",
       "      <td>5</td>\n",
       "      <td>0.000</td>\n",
       "    </tr>\n",
       "    <tr>\n",
       "      <th>286</th>\n",
       "      <td>,s,71,38,</td>\n",
       "      <td>5</td>\n",
       "      <td>0.000</td>\n",
       "    </tr>\n",
       "  </tbody>\n",
       "</table>\n",
       "</div>"
      ],
      "text/plain": [
       "               c  count   freq\n",
       "0       ,t,h,e,      99  0.009\n",
       "1       ,y,o,u,      62  0.006\n",
       "3       ,a,n,d,      39  0.004\n",
       "5       ,f,o,r,      30  0.003\n",
       "14      , , , ,      21  0.002\n",
       "25      ,a,r,e,      18  0.002\n",
       "79      ,n,o,t,      12  0.001\n",
       "95     ,65,a,y,      11  0.001\n",
       "88     ,84,a,n,      11  0.001\n",
       "118   , ,120,e,       9  0.001\n",
       "177     ,u,s,e,       7  0.001\n",
       "180     ,t,a,s,       7  0.001\n",
       "163     ,a,n,y,       7  0.001\n",
       "314     ,d,u,e,       5  0.000\n",
       "286   ,s,71,38,       5  0.000"
      ]
     },
     "execution_count": 238,
     "metadata": {},
     "output_type": "execute_result"
    }
   ],
   "source": [
    "substitution = {\n",
    "    102:' ',40: 't', 57:'h',90:'e', 58:'a', 109:'s', 77:'o', 42: 'n', 88: 'i', 79: 'f',\n",
    "    103: 'r', 72: 'd', 91:'y', 67:'u'\n",
    "}\n",
    "df = fivegrams_df[fivegrams_df['c'].apply(lambda c: c[:3]=='102' and (c[-3:]=='102'))].head(15).copy()\n",
    "df['c'] = df['c'].apply(apply_subs)\n",
    "df"
   ]
  },
  {
   "cell_type": "markdown",
   "id": "3b8f3723",
   "metadata": {},
   "source": [
    "Find 'l'. Revisit common characters and common doubles. 'l' should be in the top."
   ]
  },
  {
   "cell_type": "code",
   "execution_count": 239,
   "id": "0e055b3c",
   "metadata": {},
   "outputs": [
    {
     "data": {
      "text/html": [
       "<div>\n",
       "<style scoped>\n",
       "    .dataframe tbody tr th:only-of-type {\n",
       "        vertical-align: middle;\n",
       "    }\n",
       "\n",
       "    .dataframe tbody tr th {\n",
       "        vertical-align: top;\n",
       "    }\n",
       "\n",
       "    .dataframe thead th {\n",
       "        text-align: right;\n",
       "    }\n",
       "</style>\n",
       "<table border=\"1\" class=\"dataframe\">\n",
       "  <thead>\n",
       "    <tr style=\"text-align: right;\">\n",
       "      <th></th>\n",
       "      <th>c</th>\n",
       "      <th>count</th>\n",
       "      <th>freq</th>\n",
       "    </tr>\n",
       "  </thead>\n",
       "  <tbody>\n",
       "    <tr>\n",
       "      <th>17</th>\n",
       "      <td>,</td>\n",
       "      <td>108</td>\n",
       "      <td>0.010</td>\n",
       "    </tr>\n",
       "    <tr>\n",
       "      <th>66</th>\n",
       "      <td>s,s</td>\n",
       "      <td>50</td>\n",
       "      <td>0.005</td>\n",
       "    </tr>\n",
       "    <tr>\n",
       "      <th>70</th>\n",
       "      <td>68,68</td>\n",
       "      <td>48</td>\n",
       "      <td>0.004</td>\n",
       "    </tr>\n",
       "    <tr>\n",
       "      <th>122</th>\n",
       "      <td>e,e</td>\n",
       "      <td>27</td>\n",
       "      <td>0.002</td>\n",
       "    </tr>\n",
       "    <tr>\n",
       "      <th>137</th>\n",
       "      <td>f,f</td>\n",
       "      <td>22</td>\n",
       "      <td>0.002</td>\n",
       "    </tr>\n",
       "    <tr>\n",
       "      <th>160</th>\n",
       "      <td>37,37</td>\n",
       "      <td>15</td>\n",
       "      <td>0.001</td>\n",
       "    </tr>\n",
       "    <tr>\n",
       "      <th>221</th>\n",
       "      <td>65,65</td>\n",
       "      <td>8</td>\n",
       "      <td>0.001</td>\n",
       "    </tr>\n",
       "    <tr>\n",
       "      <th>216</th>\n",
       "      <td>t,t</td>\n",
       "      <td>8</td>\n",
       "      <td>0.001</td>\n",
       "    </tr>\n",
       "    <tr>\n",
       "      <th>257</th>\n",
       "      <td>n,n</td>\n",
       "      <td>6</td>\n",
       "      <td>0.001</td>\n",
       "    </tr>\n",
       "    <tr>\n",
       "      <th>281</th>\n",
       "      <td>81,81</td>\n",
       "      <td>5</td>\n",
       "      <td>0.000</td>\n",
       "    </tr>\n",
       "  </tbody>\n",
       "</table>\n",
       "</div>"
      ],
      "text/plain": [
       "         c  count   freq\n",
       "17      ,     108  0.010\n",
       "66     s,s     50  0.005\n",
       "70   68,68     48  0.004\n",
       "122    e,e     27  0.002\n",
       "137    f,f     22  0.002\n",
       "160  37,37     15  0.001\n",
       "221  65,65      8  0.001\n",
       "216    t,t      8  0.001\n",
       "257    n,n      6  0.001\n",
       "281  81,81      5  0.000"
      ]
     },
     "execution_count": 239,
     "metadata": {},
     "output_type": "execute_result"
    }
   ],
   "source": [
    "df = bigram_counts_df[bigram_counts_df['c'].apply(is_double)].head(10)\n",
    "df['c'] = df['c'].apply(apply_subs)\n",
    "df"
   ]
  },
  {
   "cell_type": "markdown",
   "id": "489dd5e4",
   "metadata": {},
   "source": [
    "l seems likely 68 but not definitely."
   ]
  },
  {
   "cell_type": "code",
   "execution_count": 245,
   "id": "8bff7d36",
   "metadata": {},
   "outputs": [
    {
     "data": {
      "text/plain": [
       "' 37 o 68 i 84 i e s     a n o n y 65 o u s   f e e d 75 a 84 85   a t   a n y   37 o i n t   d u r i n 73   t h e   84 o u r s e 113   y o u   a r e   120 e 68 84 o 65 e   t o   s e n d   u s   a n o n y 65 o u s   f e e d 75 a 84 85   108 i a   t h i s   f o r 65 92   y o u   84 a n   u s e   t h e   f o r 65   a t   a n y   t i 65 e 113   f o r   a n y   r e a s o n   81 81   t o   r e 37 o r t   37 a r t   o f   t h e   84 o u r s e   y o u   68 i 85 e d   o r   d i d n 107 t   68 i 85 e 113   o r   t o   s u 73 73 e s t   120 a y s   t h a t   120 e   84 o u 68 d   i 65 37 r o 108 e   o u r   t e a 84 h i n 73 92   63 u i 98     120 e   120 i 68 68   h a 108 e   o n e   i n 81 84 68 a s s   63 u i 98   o n   t h e   d a t e   68 i s t e d   o n   t h e   84 o u r s e   84 a 68 e n d a r 92   t h e   63 u i 98   120 i 68 68   t e s t   y o u r   85 n o 120 68 e d 73 e   o f   65 a t e r i a 68   f r o 65   68 e 84 t u r e s 113   37 r o 75 68 e 65   s e t s 113   a n d   r e a d i n'"
      ]
     },
     "execution_count": 245,
     "metadata": {},
     "output_type": "execute_result"
    }
   ],
   "source": [
    "sub.try_substitution(substitution, cipher_bytes)[:1000]"
   ]
  },
  {
   "cell_type": "markdown",
   "id": "6f6f52d5",
   "metadata": {},
   "source": [
    "- p: 37\n",
    "- m: 65\n",
    "- b: 75\n",
    "- c: 84\n",
    "- k: 85\n",
    "- v: 108\n",
    "- w: 120\n",
    "- l: 68 < confirmed"
   ]
  },
  {
   "cell_type": "code",
   "execution_count": 250,
   "id": "fe169266",
   "metadata": {},
   "outputs": [
    {
     "data": {
      "text/plain": [
       "' p o l i c i e s     a n o n y m o u s   f e e d b a c k   a t   a n y   p o i n t   d u r i n 73   t h e   c o u r s e 113   y o u   a r e   w e l c o m e   t o   s e n d   u s   a n o n y m o u s   f e e d b a c k   v i a   t h i s   f o r m 92   y o u   c a n   u s e   t h e   f o r m   a t   a n y   t i m e 113   f o r   a n y   r e a s o n   81 81   t o   r e p o r t   p a r t   o f   t h e   c o u r s e   y o u   l i k e d   o r   d i d n 107 t   l i k e 113   o r   t o   s u 73 73 e s t   w a y s   t h a t   w e   c o u l d   i m p r o v e   o u r   t e a c h i n 73 92   63 u i 98     w e   w i l l   h a v e   o n e   i n 81 c l a s s   63 u i 98   o n   t h e   d a t e   l i s t e d   o n   t h e   c o u r s e   c a l e n d a r 92   t h e   63 u i 98   w i l l   t e s t   y o u r   k n o w l e d 73 e   o f   m a t e r i a l   f r o m   l e c t u r e s 113   p r o b l e m   s e t s 113   a n d   r e a d i n 73 s 92   t h e r e   i s   n o   f i n a l   e 112 a m 92   n o   c o l'"
      ]
     },
     "execution_count": 250,
     "metadata": {},
     "output_type": "execute_result"
    }
   ],
   "source": [
    "substitution = {\n",
    "    102:' ',40: 't', 57:'h',90:'e', 58:'a', 109:'s', 77:'o', 42: 'n', 88: 'i', 79: 'f',\n",
    "    103: 'r', 72: 'd', 91:'y', 67:'u', 68: 'l', 37: 'p', 65:'m',75:'b',84:'c',85:'k',108:'v',\n",
    "    120: 'w', \n",
    "}\n",
    "sub.try_substitution(substitution, cipher_bytes)[:1000]"
   ]
  },
  {
   "cell_type": "markdown",
   "id": "8f917a81",
   "metadata": {},
   "source": [
    "Can finish filling this in from here."
   ]
  },
  {
   "cell_type": "code",
   "execution_count": 269,
   "id": "4efbd9b5",
   "metadata": {},
   "outputs": [
    {
     "data": {
      "text/plain": [
       "' p o l i c i e s     a n o n y m o u s   f e e d b a c k   a t   a n y   p o i n t   d u r i n g   t h e   c o u r s e ,   y o u   a r e   w e l c o m e   t o   s e n d   u s   a n o n y m o u s   f e e d b a c k   v i a   t h i s   f o r m .   y o u   c a n   u s e   t h e   f o r m   a t   a n y   t i m e ,   f o r   a n y   r e a s o n   - -   t o   r e p o r t   p a r t   o f   t h e   c o u r s e   y o u   l i k e d   o r   d i d n \\' t   l i k e ,   o r   t o   s u g g e s t   w a y s   t h a t   w e   c o u l d   i m p r o v e   o u r   t e a c h i n g .   q u i z     w e   w i l l   h a v e   o n e   i n - c l a s s   q u i z   o n   t h e   d a t e   l i s t e d   o n   t h e   c o u r s e   c a l e n d a r .   t h e   q u i z   w i l l   t e s t   y o u r   k n o w l e d g e   o f   m a t e r i a l   f r o m   l e c t u r e s ,   p r o b l e m   s e t s ,   a n d   r e a d i n g s .   t h e r e   i s   n o   f i n a l   e x a m .   n o   c o l l a b o r a t i o n   i s   p e r m i t t e d   o n   t h e   i n - c l a s s   q u i z .   t h i s   q u i z   i s   o p e n   b o o k   a n d   o p e n   n o t e s .   y o u   m a y   b r i n g   e l e c t r o n i c   d e v i c e s   p r e l o a d e d   w i t h   d i g i t a l   n o t e s   o r   h a n d o u t s   o r   t e x t b o o k s ,   b u t   y o u   m a y   n o t   u s e   t h e   i n t e r n e t   d u r i n g   t h e   q u i z   - -   y o u r   w i - f i   a n d   o t h e r   n e t w o r k   c o n n e c t i o n s   m u s t   b e   d i s a b l e d   d u r i n g   t h e   q u i z .   w e   e n c o u r a g e   y o u   t o   p r e p a r e   f o r   t h e   q u i z   b y   d i s c u s s i n g   c o u r s e   m a t e r i a l   w i t h   y o u r   c l a s s m a t e s .   c o m m u n i c a t i o n   w i t h   c o u r s e   s t a f f     p l e a s e   u s e   p r i v a t e   p i a z z a   p o s t s   t o   c o m m u n i c a t e   w i t h   c o u r s e   s t a f f   a b o u t   a l l   m a t t e r s   r e l a t e d   t o   c o u r s e   m a t e r i a l ,   p r o b l e m   s e t s ,   p r o j e c t s ,   e t c .   i f   y o u   h a v e   a   q u e s t i o n   t h a t   i s   s e n s i t i v e   a n d   t h a t   y o u   d o   n o t   f e e l   c o m f o r t a b l e   s h a r i n g   w i t h   t h e   t a s ,   p l e a s e   f e e l   f r e e   t o   e m a i l   t h e   c o u r s e   i n s t r u c t o r s   d i r e c t l y .   p r o b l e m   s e t s     w e   w i l l   d i s t r i b u t e   f o u r   p r o b l e m   s e t s   o n   a p p r o x i m a t e l y   a   b i w e e k l y   b a s i s ,   a n d   t h e y   w i l l   b e   d u e   a b o u t   t w o   w e e k s   l a t e r .   s e e   t h e   c o u r s e   c a l e n d a r   f o r   t h e   d u e   d a t e s   f o r   t h e   h o m e w o r k   a s s i g n m e n t s .   f o r m a t t i n g     h o m e w o r k   t e m p l a t e s   a r e   a v a i l a b l e   h e r e .   y o u   m u s t   t y p e s e t   y o u r   h o m e w o r k   a s s i g n m e n t s   u s i n g   l a t e x .   p l e a s e   l i s t   y o u r   g r o u p   m e m b e r s   o n   y o u r   a s s i g n m e n t .     w e   w i l l   u s e   g r a d e s c o p e   f o r   h o m e w o r k   s u b m i s s i o n .   p l e a s e   s t a r t   e a c h   p r o b l e m   122 a n d   s u b - p r o b l e m s ,   w h e r e   r e l e v a n t 93   o n   a   n e w   p a g e .   g r a d e s c o p e   w i l l   l e t   y o u   a s s i g n   m a r k e r s   t o   t h e   p a g e s   o f   y o u r   s u b m i s s i o n 55   p l e a s e   d o   s o   t o   f a c i l i t a t e   t h e   g r a d i n g   p r o c e s s .   o n c e   g r a d e d ,   t h e   t a s   w i l l   r e t u r n   m a r k e d   h o m e w o r k s   a n d   w i l l ,   w h e n   p o s s i b l e ,   p o s t   e x a m p l e   s o l u t i o n s .   h o m e w o r k   g r o u p s     t h i s   i s   a   g r o u p - o r i e n t e d   c o u r s e .   y o u   w i l l   c o m p l e t e   e a c h   p r o b l e m   s e t   i n   g r o u p s   o f   t w o ,   t h r e e ,   o r   f o u r   o t h e r   s t u d e n t s .   f o r   t h e   f i r s t   t h r e e   p r o b l e m   s e t s ,   t h e   c o u r s e   s t a f f   w i l l   a s s i g n   y o u   t o   a   g r o u p .   p l e a s e   n o t i f y   t h e   t a s   v i a   a   p r i v a t e   p i a z z a   p o s t   i f   y o u   h a v e   n o t   r e g i s t e r e d   f o r   t h e   c l a s s ,   o t h e r w i s e   w e   w i l l   n o t   k n o w   t o   p u t   y o u   i n   a   g r o u p .   f o r   t h e   l a s t   h o m e w o r k ,   y o u   m a y   w o r k   i n   g r o u p s   o f   y o u r   o w n   c h o o s i n g .     y o u   m a y   f r e e l y   d i s c u s s   t h e   p r o b l e m - s e t   p r o b l e m s   w i t h   y o u r   g r o u p   m e m b e r s .   h o w e v e r ,   y o u   m u s t   w r i t e   u p   y o u r   s o l u t i o n s   o n   y o u r   o w n   a n d   n o t   w i t h   y o u r   g r o u p   m e m b e r s \\'   h e l p .   s o m e   p e o p l e   c a l l   t h i s   t h e   \" g i l l i g a n \\' s   i s l a n d   r u l e 82 \"   a f t e r   d i s c u s s i n g   t h e   p r o b l e m   s e t   w i t h   y o u r   g r o u p   m e m b e r s ,   y o u   s h o u l d   g o   w a t c h   a n   h o u r   o f   m i n d - n u m b i n g   t v / y o u t u b e   b e f o r e   s t a r t i n g   t o   w r i t e   u p   y o u r   s o l u t i o n s .   t h a t   w a y ,   y o u   c a n   b e   s u r e   t h a t   t h e   w r i t e - u p   i s   c o m i n g   f r o m   y o u r   o w n   b r a i n   a n d   n o t   d i r e c t l y   f r o m   y o u r   g r o u p - m a t e s \\'   b r a i n s .     i f   t h e   c o u r s e   s t a f f   i s   c o n c e r n e d   t h a t   y o u   m i g h t   n o t   h a v e   c o m p l e t e d   t h e   a s s i g n m e n t   o n   y o u r   o w n ,   w e   m a y   a s k   y o u   t o   e x p l a i n   y o u r   s o l u t i o n s   t o   u s   i n   p e r s o n .   c o l l a b o r a t i o n   y o u   m a y   c o l l a b o r a t e   w i t h   y o u r   h o m e w o r k - g r o u p   m e m b e r s   a s   y o u   a r e   c o m p l e t i n g   t h e   p r o b l e m   s e t s .   y o u   m a y   n o t   c o l l a b o r a t e   w i t h   a n y o n e   o u t s i d e   o f   y o u r   h o m e w o r k   g r o u p   o n   t h e   p r o b l e m   s e t s .   p l a g i a r i s m     y o u   m a y   u s e   a n y   r e f e r e n c e   m a t e r i a l   t o   c o m p l e t e   y o u r   h o m e w o r k   a s s i g n m e n t s ,   i n c l u d i n g   m a t e r i a l   o n   t h e   i n t e r n e t   a n d   m a t e r i a l   f r o m   p r e v i o u s   y e a r s .   i f   y o u   d o   s o ,   y o u   m u s t   c i t e   a l l   o f   y o u r   s o u r c e s   p r o p e r l y .   i n   m o s t   o f   y o u r   s o l u t i o n s ,   w e   w i l l   e x p e c t   t o   s e e   c i t a t i o n s .   i n   t h i s   c l a s s ,   a s   e l s e w h e r e   i n   l i f e ,   i t   i s   e x t r e m e l y   i m p o r t a n t   t o   r e m o v e   t h e   p o s s i b i l i t y   t h a t   s o m e o n e   w i l l   m i s c o n s t r u e   a n o t h e r \\' s   w o r k   a s   y o u r   o w n .     w h e n   w e   h a v e   f o u n d   i n s t a n c e s   o f   p l a g i a r i s m   a n d / o r   u n a u t h o r i z e d   c o l l a b o r a t i o n   i n   t h e   p a s t ,   w e   h a v e   g i v e n   r e d u c e d   o r   f a i l i n g   g r a d e s   f o r   t h e   c l a s s   122 n o t   j u s t   f o r   t h e   p a r t i c u l a r   a s s i g n m e n t 93 ,   r e p o r t e d   t h e   i n c i d e n t   t o   t h e   d e a n   f o r   s t u d e n t   a f f a i r s ,   a n d / o r   f i l e d   a   c o m p l a i n t   w i t h   t h e   c o m m i t t e e   o n   d i s c i p l i n e .   l a t e   a s s i g n m e n t s     w e   r e a l i z e   t h a t   s i t u a t i o n s   c o m e   u p   t h a t   m a y   c a u s e   y o u   t o   s u b m i t   a s s i g n m e n t s   l a t e .   t h e   f o l l o w i n g   l a t e - a s s i g n m e n t   p o l i c y   a p p l i e s   t o   a l l   p r o b l e m   s e t s   a n d   t o   t h e   c o m p o n e n t s   o f   t h e   f i n a l   p r o j e c t   e x c e p t   f o r   t h e   p r o j e c t   p r e s e n t a t i o n   a n d   f i n a l   p r o j e c t   r e p o r t   - -   s e e   b e l o w   f o r   t h o s e .             y o u   m a y   r e q u e s t   a   105 60 - h o u r   e x t e n s i o n   o n   a n   a s s i g n m e n t ,   p r o v i d e d   t h a t   y o u   m a k e   y o u r   r e q u e s t   v i a   p r i v a t e   p i a z z a   p o s t   b e f o r e   t h e   a s s i g n m e n t \\' s   o r i g i n a l   d u e   d a t e .   t h e   t a s   w i l l   g e n e r a l l y   a p p r o v e   t h e s e   e x t e n s i o n s .           i f   y o u   n e e d   m o r e   t h a n   a   105 60 - h o u r   e x t e n s i o n   o n   a n y   a s s i g n m e n t ,   p l e a s e   c o n t a c t   s 71 38   f i r s t .   i f   y o u r   s 71 38   d e a n   s u p p o r t s   t h e   e x t e n s i o n   r e q u e s t ,   p l e a s e   h a v e   t h e m   e m a i l   t h e   c o u r s e   s t a f f   s o   t h a t   w e   c a n   f i g u r e   o u t   a   p l a n .           i f   y o u   r e q u e s t   105 60 - h o u r   e x t e n s i o n s   v e r y   o f t e n   122 e . g . ,   o n   e v e r y   a s s i g n m e n t 93 ,   t h e   c o u r s e   s t a f f   m a y   a s k   y o u   t o   c o n t a c t   a n d   s 71 38   d e a n   a n d   t o   h a v e   t h e   d e a n   s e n d   u s   a   n o t e   s u p p o r t i n g   y o u r   e x t e n s i o n   r e q u e s t .       w e   c a n n o t   t y p i c a l l y   o f f e r   e x t e n s i o n s   o n   t h e   d u e   d a t e   f o r   t h e   f i n a l - p r o j e c t   r e p o r t ,   s i n c e   w e   n e e d   t i m e   t o   g r a d e   t h e   r e p o r t s   b e f o r e   g r a d e s   a r e   d u e   t o   t h e   r e g i s t r a r .   f o r   s c h e d u l i n g   r e a s o n s ,   w e   c a n n o t   t y p i c a l l y   o f f e r   e x t e n s i o n s   o n   t h e   f i n a l - p r o j e c t   p r e s e n t a t i o n s   e i t h e r .   i n   t h e   e x c e p t i o n a l   c a s e   t h a t   y o u   n e e d   a n   e x t e n s i o n   o n   t h e   p r o j e c t   p r e s e n t a t i o n   o r   f i n a l   r e p o r t ,   p l e a s e   c o n t a c t   s 71 38   a n d   h a v e   y o u r   d e a n   t h e r e   e m a i l   t h e   c o u r s e   s t a f f   s o   t h a t   w e   c a n   f i g u r e   o u t   a   p l a n .   f i n a l   p r o j e c t   y o u   w i l l   c o m p l e t e   t h e   f i n a l   p r o j e c t s   i n   g r o u p s   o f   t w o ,   t h r e e ,   o r   f o u r   s t u d e n t s .   y o u   s h o u l d   f o r m   a   f i n a l   p r o j e c t   t e a m   b y   t h e   d a t e   l i s t e d   o n   t h e   c o u r s e   c a l e n d a r .   y o u r   p r o j e c t   g r o u p   n e e d   n o t   b e   t h e   s a m e   a s   y o u r   h o m e w o r k   g r o u p s ,   a l t h o u g h   i t   c a n   b e   i f   y o u   l i k e .     s t u d e n t s   w h o   n e e d   h e l p   f i n d i n g   a   p r o j e c t   g r o u p   s h o u l d   c o n t a c t   t h e   s t a f f .   t o   k e e p   g r o u p s   r u n n i n g   s m o o t h l y ,   y o u   s h o u l d   e n s u r e   t h a t   y o u r   f e l l o w   g r o u p s   m e m b e r s   a r e   a c t i v e l y   p a r t i c i p a t i n g   a n d   s h o u l d   c o m m u n i c a t e   r e g u l a r l y .   i f   y o u   c a n n o t   r e s o l v e   g r o u p   p r o b l e m s ,   p l e a s e   c o n t a c t   t h e   t a s   v i a   a   p r i v a t e   q u e s t i o n   o n   p i a z z a .   i f   n e c e s s a r y ,   i t   i s   p o s s i b l e   t o   d i s s o l v e   a n d   r e f o r m   g r o u p s   w i t h   p e r m i s s i o n   o f   t h e   t a s   a n d   m u t u a l   c o n s e n t   o f   t h e   g r o u p   m e m b e r s   122 o r   s u f f i c i e n t   r e a s o n   a s   t h e   c o u r s e   s t a f f   d e t e r m i n e s 93 .   g r a d i n g     t h e   w o r k   w e   e x p e c t   f r o m   y o u   f o r   t h i s   c o u r s e   i n c l u d e s 82   p r o b l e m   s e t s ,   a   q u i z ,   a n d   t h e   f i n a l   p r o j e c t .     g r a d e s   a r e   w e i g h t e d   a s   f o l l o w s 82             105 46 96   f o r   t h r e e   c o n t r i b u t i n g   p r o b l e m   s e t s .           74 46 96   f o r   t h e   q u i z .           105 46 96   f o r   t h e   f i n a l   p r o j e c t .       w e   w i l l   h a v e   f o u r   p r o b l e m   s e t s .   f o r   a d d i t i o n a l   f l e x i b i l i t y ,   w e   w i l l   w e i g h t   e a c h   p r o b l e m   s e t   d e p e n d i n g   o n   y o u r   r e l a t i v e   p e r f o r m a n c e   o n   i t ,   u s i n g   t h e   f o l l o w i n g   s c h e m e 82   y o u r   h i g h e s t   p s e t   g r a d e   i s   r e - w e i g h t e d   t o   h a v e   110 70   a s   a   m a x   s c o r e ,   t h e   s e c o n d - h i g h e s t   p s e t   g r a d e   i s   r e - w e i g h t e d   t o   h a v e   110 74   a s   a   m a x   s c o r e ,   t h e   t h i r d - h i g h e s t   p s e t   g r a d e   i s   r e - w e i g h t e d   t o   h a v e   60   a s   a   m a x   s c o r e ,   a n d   y o u r   l o w e s t   p s e t   g r a d e   i s   r e - w e i g h t e d   t o   h a v e   105   a s   a   m a x   s c o r e .   s o ,   t h e   t o t a l   s c o r e s   a d d   u p   t o   105 46 ,   b u t   t h e y   a r e   w e i g h t e d   i n   a   105 - 38 - 74 - 110   p r o p o r t i o n .   c o m p u t i n g   e t h i c s   t h i s   i s   a   c o u r s e   o n   a p p l i e d   c r y p t o g r a p h y   a n d   s e c u r i t y .   a l t h o u g h   t h e   c o u r s e   i s   p r i m a r i l y   c o n c e r n e d   w i t h   c r y p t o g r a p h i c   t e c h n i q u e s   t h a t   a r e   d e s i g n e d   t o   i n c r e a s e   t h e   s e c u r i t y   o f   n e t w o r k s   a n d   c o m p u t e r   s y s t e m s ,   a   p r o p e r   u n d e r s t a n d i n g   o f   t h o s e   s y s t e m s   r e q u i r e s   t h a t   y o u   b e   v e r s e d   i n   t h e i r   v u l n e r a b i l i t i e s   a n d   f a i l i n g s   a s   w e l l .     n e v e r t h e l e s s ,   u n l e s s   y o u   h a v e   e x p l i c i t   w r i t t e n   a u t h o r i z a t i o n   f r o m   t h e   o w n e r   a n d   o p e r a t o r s   o f   a   c o m p u t e r   n e t w o r k   o r   s y s t e m ,   y o u   s h o u l d   n e v e r   a t t e m p t   t o   p e n e t r a t e   t h a t   s y s t e m   o r   a d v e r s e l y   a f f e c t   t h a t   s y s t e m \\' s   o p e r a t i o n .   s u c h   a c t i o n s   a r e   a   v i o l a t i o n   o f   m i t   p o l i c y   a n d ,   i n   s o m e   c a s e s ,   v i o l a t i o n s   o f   s t a t e   a n d   f e d e r a l   l a w .   l i k e w i s e ,   y o u   s h o u l d   r e f r a i n   f r o m   w r i t i n g   c o m p u t e r   v i r u s e s ,   w o r m s ,   s e l f - r e p r o d u c i n g   c o d e ,   o r   o t h e r   k i n d s   o f   p o t e n t i a l l y   d a m a g i n g   s o f t w a r e   f o r   t h i s   c o u r s e   u n l e s s   y o u   h a v e   e x p l i c i t ,   w r i t t e n   a p p r o v a l   f o r   t h e   s p e c i f i c   t y p e   o f   s o f t w a r e   t h a t   y o u   w i s h   t o   c r e a t e .   t h e s e   k i n d s   o f   p r o g r a m s   a r e   n o t o r i o u s l y   d i f f i c u l t   t o   c o n t r o l   a n d   t h e i r   r e l e a s e   122 i n t e n t i o n a l   o r   o t h e r w i s e 93   c a n   r e s u l t   i n   s u b s t a n t i a l   c i v i l   a n d   c r i m i n a l   p e n a l t i e s .     i n   p a r t i c u l a r ,   t e r m   p r o j e c t s   i n v o l v i n g   a n   e v a l u a t i o n   o f   s e c u r i t y   o f   e x i s t i n g   c o m m e r c i a l   p r o d u c t s   o r   s y s t e m s   n e e d   t h e   a p p r o v a l   o f   t h e   c o u r s e   s t a f f ,   w h o   g e n e r a l l y   w i l l   r e q u i r e   t h a t   y o u   o b t a i n   p e r m i s s i o n   f r o m   t h e   v e n d o r / s u p p l i e r   122 d e p e n d i n g   o n   t h e   n a t u r e   o f   y o u r   p r o p o s e d   e v a l u a t i o n 93 .   t h e   t a s   c a n   s u p p l y   a   \" t e m p l a t e \"   l e t t e r   f o r   a s k i n g   f o r   s u c h   p e r m i s s i o n   f r o m   a   v e n d o r .     w e   s t r o n g l y   r e c o m m e n d   t h a t   y o u   c o n s u l t   t h e   a t h e n a   r u l e s   o f   u s e   a n d   s e c t i o n   110 38 . 74   o f   t h e   m i t   p o l i c i e s   a n d   p r o c e d u r e s   \" p o l i c y   o n   t h e   u s e   o f   i n f o r m a t i o n   t e c h n o l o g y \" .   f i n a l l y ,   w e   r e c o m m e n d   t h a t   y o u   r e a d   a n d   r e v i e w   t h e   a c m   c o d e   o f   e t h i c s   a n d   p r o f e s s i o n a l   c o n d u c t .     w e   e x p e c t   a l l   s t u d e n t s   i n   t h i s   c l a s s   t o   f o l l o w   t h e   g u i d e l i n e s   p r e s e n t e d   i n   t h i s   d o c u m e n t ,   a n d   i n   t h e   d o c u m e n t s   j u s t   c i t e d .   i f   y o u   a r e   i n   d o u b t   a b o u t   t h e   l e g a l i t y   o r   e t h i c s   o f   a n y   a c t i v i t y   r e l a t e d   t o   t h i s   c o u r s e ,   p l e a s e   c o n s u l t   t h e   s t a f f   b e f o r e   u n d e r t a k i n g   a n y   s u c h   a c t i v i t y .   m i t   s u p p o r t   r e s o u r c e s     s t r e s s f u l   s i t u a t i o n s   w i l l   a l m o s t   c e r t a i n l y   c o m e   u p   f o r   y o u   a t   s o m e   p o i n t   d u r i n g   t h i s   s e m e s t e r .   p l e a s e   t a k e   a d v a n t a g e   o f   m i t \\' s   e x c e l l e n t   s t u d e n t - s u p p o r t   r e s o u r c e s   l i s t e d   b e l o w .     u n d e r g r a d u a t e s           t h e   f i r s t   p l a c e   t o   g o   i s   s t u d e n t   s u p p o r t   s e r v i c e s   122 s 71 38 93 .   t h e y   a r e   e x t r a o r d i n a r i l y   h e l p f u l   a n d   t r u s t w o r t h y   f o l k s   a n d   w i l l   b e   a b l e   t o   c o n n e c t   y o u   w i t h   t h e   r i g h t   r e s o u r c e s   a t   m i t   t o   s o l v e   w h a t e v e r   p r o b l e m   h a s   c o m e   u p .             w e   a l s o   s t r o n g l y   r e c o m m e n d   t h a t   y o u   c o n t a c t   s t u d e n t   m e n t a l   h e a l t h   a n d   c o u n s e l i n g   s e r v i c e s   i f   s t r e s s   o r   a n x i e t y   i s   a f f e c t i n g   y o u r   a b i l i t y   t o   e n j o y   l i f e .   122 i f   y o u   a r e   f e e l i n g   s a d   o r   h o p e l e s s ,   i f   y o u   a r e   n o t   e n j o y i n g   a c t i v i t i e s   t h a t   y o u   u s u a l l y   l i k e ,   o r   i f   y o u   a r e   s l e e p i n g   n o t   e n o u g h   o r   t o o   m u c h 82   t h e   f o l k s   a t   s 71 38   a n d / o r   s t u d e n t   m e n t a l   h e a l t h   c a n   h e l p   y o u   o u t 62   y o u   s h o u l d   a l s o   a l w a y s   f e e l   f r e e   t o   c o n t a c t   t h e   c o u r s e   s t a f f   d i r e c t l y   b y   e m a i l   f o r   h e l p . 93     g r a d u a t e   s t u d e n t s           a s   f o r   u n d e r g r a d u a t e s ,   s t u d e n t   m e n t a l   h e a l t h   a n d   c o u n s e l i n g   s e r v i c e s   i s   t h e   p l a c e   t o   g o   i f   y o u   a r e   e x p e r i e n c i n g   s t r e s s   o r   a n x i e t y   t h a t   i s   a f f e c t i n g   y o u r   h a p p i n e s s .   f o r   a c a d e m i c   i s s u e s ,   g r a d s u p p o r t   i s   t h e   p l a c e   t h a t   g r a d   s t u d e n t s   c a n   g o   f o r   h e l p   w i t h   \" f a c u l t y / s t u d e n t   r e l a t i o n s h i p s ,   c h a n g i n g   y o u r   a d v i s o r ,   c o n f l i c t   n e g o t i a t i o n ,   f u n d i n g ,   a c a d e m i c   p r o g r e s s ,   i n t e r p e r s o n a l   c o n c e r n s ,   a n d   a   s t u d e n t \\' s   r i g h t s   a n d   r e s p o n s i b i l i t i e s . \"     p o s t d o c s   a n d   s t a f f           m y l i f e s e r v i c e s   i s   a n   i n c r e d i b l y   u s e f u l   r e s o u r c e   f o r   h e l p   w i t h   b a s i c a l l y   a n y t h i n g .   i f   y o u   a r e   h a v i n g   t r o u b l e   w i t h   s o m e t h i n g   - -   w h e t h e r   i t \\' s   m e n t a l   h e a l t h   i s s u e s   o r   l e g a l   i s s u e s   o r   f i n a n c i a l   i s s u e s   - -   t h e y   c a n   p u t   y o u   i n   t o u c h   w i t h   r e s o u r c e s   t h a t   c a n   h e l p .       c o u r s e   s t a f f     i n s t r u c t o r s     h e n r y   c o r r i g a n - g i b b s           e m a i l 82   h e n r y c g 124 c s a i l . m i t . e d u   y a e l   k a l a i           e m a i l 82   t a u m a n 124 m i t . e d u     t a s   a n d   l a s     a l e x a n d r a   h e n z i n g e r           e m a i l 82   a h e n z 124 m i t . e d u   a n d r e a   l i n           e m a i l 82   a n d r e a y l 124 m i t . e d u   k e l s e y   m e r r i l l           e m a i l 82   m e r r i l l 124 m i t . e d u   k y l e   h o g a n           e m a i l 82   k l h o g a n 124 m i t . e d u   s i m o n   l a n g o w s k i           e m a i l 82   s l a n g o w s 124 m i t . e d u           h e r e   a r e   t h e   110 46   d e c i m a l   d i g i t s   i n   o r d e r 82   46 110 74 38 105 119 70 78 60 95   i n   c a s e   y o u r   k e r b e r o s   h a s   o n e   n o t   a l r e a d y   i n   t h i s   d o c u m e n t .'"
      ]
     },
     "execution_count": 269,
     "metadata": {},
     "output_type": "execute_result"
    }
   ],
   "source": [
    "substitution[112]='x'\n",
    "substitution[73]='g'\n",
    "sub.try_substitution(substitution, cipher_bytes)"
   ]
  },
  {
   "cell_type": "code",
   "execution_count": 270,
   "id": "c6c7ad90",
   "metadata": {
    "scrolled": false
   },
   "outputs": [
    {
     "data": {
      "text/plain": [
       "' p o l i c i e s     a n o n y m o u s   f e e d b a c k   a t   a n y   p o i n t   d u r i n g   t h e   c o u r s e ,   y o u   a r e   w e l c o m e   t o   s e n d   u s   a n o n y m o u s   f e e d b a c k   v i a   t h i s   f o r m .   y o u   c a n   u s e   t h e   f o r m   a t   a n y   t i m e ,   f o r   a n y   r e a s o n   - -   t o   r e p o r t   p a r t   o f   t h e   c o u r s e   y o u   l i k e d   o r   d i d n \\' t   l i k e ,   o r   t o   s u g g e s t   w a y s   t h a t   w e   c o u l d   i m p r o v e   o u r   t e a c h i n g .   q u i z     w e   w i l l   h a v e   o n e   i n - c l a s s   q u i z   o n   t h e   d a t e   l i s t e d   o n   t h e   c o u r s e   c a l e n d a r .   t h e   q u i z   w i l l   t e s t   y o u r   k n o w l e d g e   o f   m a t e r i a l   f r o m   l e c t u r e s ,   p r o b l e m   s e t s ,   a n d   r e a d i n g s .   t h e r e   i s   n o   f i n a l   e x a m .   n o   c o l l a b o r a t i o n   i s   p e r m i t t e d   o n   t h e   i n - c l a s s   q u i z .   t h i s   q u i z   i s   o p e n   b o o k   a n d   o p e n   n o t e s .   y o u   m a y   b r i n g   e l e c t r o n i c   d e v i c e s   p r e l o a d e d   w i t h   d i g i t a l   n o t e s   o r   h a n d o u t s   o r   t e x t b o o k s ,   b u t   y o u   m a y   n o t   u s e   t h e   i n t e r n e t   d u r i n g   t h e   q u i z   - -   y o u r   w i - f i   a n d   o t h e r   n e t w o r k   c o n n e c t i o n s   m u s t   b e   d i s a b l e d   d u r i n g   t h e   q u i z .   w e   e n c o u r a g e   y o u   t o   p r e p a r e   f o r   t h e   q u i z   b y   d i s c u s s i n g   c o u r s e   m a t e r i a l   w i t h   y o u r   c l a s s m a t e s .   c o m m u n i c a t i o n   w i t h   c o u r s e   s t a f f     p l e a s e   u s e   p r i v a t e   p i a z z a   p o s t s   t o   c o m m u n i c a t e   w i t h   c o u r s e   s t a f f   a b o u t   a l l   m a t t e r s   r e l a t e d   t o   c o u r s e   m a t e r i a l ,   p r o b l e m   s e t s ,   p r o j e c t s ,   e t c .   i f   y o u   h a v e   a   q u e s t i o n   t h a t   i s   s e n s i t i v e   a n d   t h a t   y o u   d o   n o t   f e e l   c o m f o r t a b l e   s h a r i n g   w i t h   t h e   t a s ,   p l e a s e   f e e l   f r e e   t o   e m a i l   t h e   c o u r s e   i n s t r u c t o r s   d i r e c t l y .   p r o b l e m   s e t s     w e   w i l l   d i s t r i b u t e   f o u r   p r o b l e m   s e t s   o n   a p p r o x i m a t e l y   a   b i w e e k l y   b a s i s ,   a n d   t h e y   w i l l   b e   d u e   a b o u t   t w o   w e e k s   l a t e r .   s e e   t h e   c o u r s e   c a l e n d a r   f o r   t h e   d u e   d a t e s   f o r   t h e   h o m e w o r k   a s s i g n m e n t s .   f o r m a t t i n g     h o m e w o r k   t e m p l a t e s   a r e   a v a i l a b l e   h e r e .   y o u   m u s t   t y p e s e t   y o u r   h o m e w o r k   a s s i g n m e n t s   u s i n g   l a t e x .   p l e a s e   l i s t   y o u r   g r o u p   m e m b e r s   o n   y o u r   a s s i g n m e n t .     w e   w i l l   u s e   g r a d e s c o p e   f o r   h o m e w o r k   s u b m i s s i o n .   p l e a s e   s t a r t   e a c h   p r o b l e m   122 a n d   s u b - p r o b l e m s ,   w h e r e   r e l e v a n t 93   o n   a   n e w   p a g e .   g r a d e s c o p e   w i l l   l e t   y o u   a s s i g n   m a r k e r s   t o   t h e   p a g e s   o f   y o u r   s u b m i s s i o n 55   p l e a s e   d o   s o   t o   f a c i l i t a t e   t h e   g r a d i n g   p r o c e s s .   o n c e   g r a d e d ,   t h e   t a s   w i l l   r e t u r n   m a r k e d   h o m e w o r k s   a n d   w i l l ,   w h e n   p o s s i b l e ,   p o s t   e x a m p l e   s o l u t i o n s .   h o m e w o r k   g r o u p s     t h i s   i s   a   g r o u p - o r i e n t e d   c o u r s e .   y o u   w i l l   c o m p l e t e   e a c h   p r o b l e m   s e t   i n   g r o u p s   o f   t w o ,   t h r e e ,   o r   f o u r   o t h e r   s t u d e n t s .   f o r   t h e   f i r s t   t h r e e   p r o b l e m   s e t s ,   t h e   c o u r s e   s t a f f   w i l l   a s s i g n   y o u   t o   a   g r o u p .   p l e a s e   n o t i f y   t h e   t a s   v i a   a   p r i v a t e   p i a z z a   p o s t   i f   y o u   h a v e   n o t   r e g i s t e r e d   f o r   t h e   c l a s s ,   o t h e r w i s e   w e   w i l l   n o t   k n o w   t o   p u t   y o u   i n   a   g r o u p .   f o r   t h e   l a s t   h o m e w o r k ,   y o u   m a y   w o r k   i n   g r o u p s   o f   y o u r   o w n   c h o o s i n g .     y o u   m a y   f r e e l y   d i s c u s s   t h e   p r o b l e m - s e t   p r o b l e m s   w i t h   y o u r   g r o u p   m e m b e r s .   h o w e v e r ,   y o u   m u s t   w r i t e   u p   y o u r   s o l u t i o n s   o n   y o u r   o w n   a n d   n o t   w i t h   y o u r   g r o u p   m e m b e r s \\'   h e l p .   s o m e   p e o p l e   c a l l   t h i s   t h e   \" g i l l i g a n \\' s   i s l a n d   r u l e 82 \"   a f t e r   d i s c u s s i n g   t h e   p r o b l e m   s e t   w i t h   y o u r   g r o u p   m e m b e r s ,   y o u   s h o u l d   g o   w a t c h   a n   h o u r   o f   m i n d - n u m b i n g   t v / y o u t u b e   b e f o r e   s t a r t i n g   t o   w r i t e   u p   y o u r   s o l u t i o n s .   t h a t   w a y ,   y o u   c a n   b e   s u r e   t h a t   t h e   w r i t e - u p   i s   c o m i n g   f r o m   y o u r   o w n   b r a i n   a n d   n o t   d i r e c t l y   f r o m   y o u r   g r o u p - m a t e s \\'   b r a i n s .     i f   t h e   c o u r s e   s t a f f   i s   c o n c e r n e d   t h a t   y o u   m i g h t   n o t   h a v e   c o m p l e t e d   t h e   a s s i g n m e n t   o n   y o u r   o w n ,   w e   m a y   a s k   y o u   t o   e x p l a i n   y o u r   s o l u t i o n s   t o   u s   i n   p e r s o n .   c o l l a b o r a t i o n   y o u   m a y   c o l l a b o r a t e   w i t h   y o u r   h o m e w o r k - g r o u p   m e m b e r s   a s   y o u   a r e   c o m p l e t i n g   t h e   p r o b l e m   s e t s .   y o u   m a y   n o t   c o l l a b o r a t e   w i t h   a n y o n e   o u t s i d e   o f   y o u r   h o m e w o r k   g r o u p   o n   t h e   p r o b l e m   s e t s .   p l a g i a r i s m     y o u   m a y   u s e   a n y   r e f e r e n c e   m a t e r i a l   t o   c o m p l e t e   y o u r   h o m e w o r k   a s s i g n m e n t s ,   i n c l u d i n g   m a t e r i a l   o n   t h e   i n t e r n e t   a n d   m a t e r i a l   f r o m   p r e v i o u s   y e a r s .   i f   y o u   d o   s o ,   y o u   m u s t   c i t e   a l l   o f   y o u r   s o u r c e s   p r o p e r l y .   i n   m o s t   o f   y o u r   s o l u t i o n s ,   w e   w i l l   e x p e c t   t o   s e e   c i t a t i o n s .   i n   t h i s   c l a s s ,   a s   e l s e w h e r e   i n   l i f e ,   i t   i s   e x t r e m e l y   i m p o r t a n t   t o   r e m o v e   t h e   p o s s i b i l i t y   t h a t   s o m e o n e   w i l l   m i s c o n s t r u e   a n o t h e r \\' s   w o r k   a s   y o u r   o w n .     w h e n   w e   h a v e   f o u n d   i n s t a n c e s   o f   p l a g i a r i s m   a n d / o r   u n a u t h o r i z e d   c o l l a b o r a t i o n   i n   t h e   p a s t ,   w e   h a v e   g i v e n   r e d u c e d   o r   f a i l i n g   g r a d e s   f o r   t h e   c l a s s   122 n o t   j u s t   f o r   t h e   p a r t i c u l a r   a s s i g n m e n t 93 ,   r e p o r t e d   t h e   i n c i d e n t   t o   t h e   d e a n   f o r   s t u d e n t   a f f a i r s ,   a n d / o r   f i l e d   a   c o m p l a i n t   w i t h   t h e   c o m m i t t e e   o n   d i s c i p l i n e .   l a t e   a s s i g n m e n t s     w e   r e a l i z e   t h a t   s i t u a t i o n s   c o m e   u p   t h a t   m a y   c a u s e   y o u   t o   s u b m i t   a s s i g n m e n t s   l a t e .   t h e   f o l l o w i n g   l a t e - a s s i g n m e n t   p o l i c y   a p p l i e s   t o   a l l   p r o b l e m   s e t s   a n d   t o   t h e   c o m p o n e n t s   o f   t h e   f i n a l   p r o j e c t   e x c e p t   f o r   t h e   p r o j e c t   p r e s e n t a t i o n   a n d   f i n a l   p r o j e c t   r e p o r t   - -   s e e   b e l o w   f o r   t h o s e .             y o u   m a y   r e q u e s t   a   105 60 - h o u r   e x t e n s i o n   o n   a n   a s s i g n m e n t ,   p r o v i d e d   t h a t   y o u   m a k e   y o u r   r e q u e s t   v i a   p r i v a t e   p i a z z a   p o s t   b e f o r e   t h e   a s s i g n m e n t \\' s   o r i g i n a l   d u e   d a t e .   t h e   t a s   w i l l   g e n e r a l l y   a p p r o v e   t h e s e   e x t e n s i o n s .           i f   y o u   n e e d   m o r e   t h a n   a   105 60 - h o u r   e x t e n s i o n   o n   a n y   a s s i g n m e n t ,   p l e a s e   c o n t a c t   s 71 38   f i r s t .   i f   y o u r   s 71 38   d e a n   s u p p o r t s   t h e   e x t e n s i o n   r e q u e s t ,   p l e a s e   h a v e   t h e m   e m a i l   t h e   c o u r s e   s t a f f   s o   t h a t   w e   c a n   f i g u r e   o u t   a   p l a n .           i f   y o u   r e q u e s t   105 60 - h o u r   e x t e n s i o n s   v e r y   o f t e n   122 e . g . ,   o n   e v e r y   a s s i g n m e n t 93 ,   t h e   c o u r s e   s t a f f   m a y   a s k   y o u   t o   c o n t a c t   a n d   s 71 38   d e a n   a n d   t o   h a v e   t h e   d e a n   s e n d   u s   a   n o t e   s u p p o r t i n g   y o u r   e x t e n s i o n   r e q u e s t .       w e   c a n n o t   t y p i c a l l y   o f f e r   e x t e n s i o n s   o n   t h e   d u e   d a t e   f o r   t h e   f i n a l - p r o j e c t   r e p o r t ,   s i n c e   w e   n e e d   t i m e   t o   g r a d e   t h e   r e p o r t s   b e f o r e   g r a d e s   a r e   d u e   t o   t h e   r e g i s t r a r .   f o r   s c h e d u l i n g   r e a s o n s ,   w e   c a n n o t   t y p i c a l l y   o f f e r   e x t e n s i o n s   o n   t h e   f i n a l - p r o j e c t   p r e s e n t a t i o n s   e i t h e r .   i n   t h e   e x c e p t i o n a l   c a s e   t h a t   y o u   n e e d   a n   e x t e n s i o n   o n   t h e   p r o j e c t   p r e s e n t a t i o n   o r   f i n a l   r e p o r t ,   p l e a s e   c o n t a c t   s 71 38   a n d   h a v e   y o u r   d e a n   t h e r e   e m a i l   t h e   c o u r s e   s t a f f   s o   t h a t   w e   c a n   f i g u r e   o u t   a   p l a n .   f i n a l   p r o j e c t   y o u   w i l l   c o m p l e t e   t h e   f i n a l   p r o j e c t s   i n   g r o u p s   o f   t w o ,   t h r e e ,   o r   f o u r   s t u d e n t s .   y o u   s h o u l d   f o r m   a   f i n a l   p r o j e c t   t e a m   b y   t h e   d a t e   l i s t e d   o n   t h e   c o u r s e   c a l e n d a r .   y o u r   p r o j e c t   g r o u p   n e e d   n o t   b e   t h e   s a m e   a s   y o u r   h o m e w o r k   g r o u p s ,   a l t h o u g h   i t   c a n   b e   i f   y o u   l i k e .     s t u d e n t s   w h o   n e e d   h e l p   f i n d i n g   a   p r o j e c t   g r o u p   s h o u l d   c o n t a c t   t h e   s t a f f .   t o   k e e p   g r o u p s   r u n n i n g   s m o o t h l y ,   y o u   s h o u l d   e n s u r e   t h a t   y o u r   f e l l o w   g r o u p s   m e m b e r s   a r e   a c t i v e l y   p a r t i c i p a t i n g   a n d   s h o u l d   c o m m u n i c a t e   r e g u l a r l y .   i f   y o u   c a n n o t   r e s o l v e   g r o u p   p r o b l e m s ,   p l e a s e   c o n t a c t   t h e   t a s   v i a   a   p r i v a t e   q u e s t i o n   o n   p i a z z a .   i f   n e c e s s a r y ,   i t   i s   p o s s i b l e   t o   d i s s o l v e   a n d   r e f o r m   g r o u p s   w i t h   p e r m i s s i o n   o f   t h e   t a s   a n d   m u t u a l   c o n s e n t   o f   t h e   g r o u p   m e m b e r s   122 o r   s u f f i c i e n t   r e a s o n   a s   t h e   c o u r s e   s t a f f   d e t e r m i n e s 93 .   g r a d i n g     t h e   w o r k   w e   e x p e c t   f r o m   y o u   f o r   t h i s   c o u r s e   i n c l u d e s 82   p r o b l e m   s e t s ,   a   q u i z ,   a n d   t h e   f i n a l   p r o j e c t .     g r a d e s   a r e   w e i g h t e d   a s   f o l l o w s 82             105 46 96   f o r   t h r e e   c o n t r i b u t i n g   p r o b l e m   s e t s .           74 46 96   f o r   t h e   q u i z .           105 46 96   f o r   t h e   f i n a l   p r o j e c t .       w e   w i l l   h a v e   f o u r   p r o b l e m   s e t s .   f o r   a d d i t i o n a l   f l e x i b i l i t y ,   w e   w i l l   w e i g h t   e a c h   p r o b l e m   s e t   d e p e n d i n g   o n   y o u r   r e l a t i v e   p e r f o r m a n c e   o n   i t ,   u s i n g   t h e   f o l l o w i n g   s c h e m e 82   y o u r   h i g h e s t   p s e t   g r a d e   i s   r e - w e i g h t e d   t o   h a v e   110 70   a s   a   m a x   s c o r e ,   t h e   s e c o n d - h i g h e s t   p s e t   g r a d e   i s   r e - w e i g h t e d   t o   h a v e   110 74   a s   a   m a x   s c o r e ,   t h e   t h i r d - h i g h e s t   p s e t   g r a d e   i s   r e - w e i g h t e d   t o   h a v e   60   a s   a   m a x   s c o r e ,   a n d   y o u r   l o w e s t   p s e t   g r a d e   i s   r e - w e i g h t e d   t o   h a v e   105   a s   a   m a x   s c o r e .   s o ,   t h e   t o t a l   s c o r e s   a d d   u p   t o   105 46 ,   b u t   t h e y   a r e   w e i g h t e d   i n   a   105 - 38 - 74 - 110   p r o p o r t i o n .   c o m p u t i n g   e t h i c s   t h i s   i s   a   c o u r s e   o n   a p p l i e d   c r y p t o g r a p h y   a n d   s e c u r i t y .   a l t h o u g h   t h e   c o u r s e   i s   p r i m a r i l y   c o n c e r n e d   w i t h   c r y p t o g r a p h i c   t e c h n i q u e s   t h a t   a r e   d e s i g n e d   t o   i n c r e a s e   t h e   s e c u r i t y   o f   n e t w o r k s   a n d   c o m p u t e r   s y s t e m s ,   a   p r o p e r   u n d e r s t a n d i n g   o f   t h o s e   s y s t e m s   r e q u i r e s   t h a t   y o u   b e   v e r s e d   i n   t h e i r   v u l n e r a b i l i t i e s   a n d   f a i l i n g s   a s   w e l l .     n e v e r t h e l e s s ,   u n l e s s   y o u   h a v e   e x p l i c i t   w r i t t e n   a u t h o r i z a t i o n   f r o m   t h e   o w n e r   a n d   o p e r a t o r s   o f   a   c o m p u t e r   n e t w o r k   o r   s y s t e m ,   y o u   s h o u l d   n e v e r   a t t e m p t   t o   p e n e t r a t e   t h a t   s y s t e m   o r   a d v e r s e l y   a f f e c t   t h a t   s y s t e m \\' s   o p e r a t i o n .   s u c h   a c t i o n s   a r e   a   v i o l a t i o n   o f   m i t   p o l i c y   a n d ,   i n   s o m e   c a s e s ,   v i o l a t i o n s   o f   s t a t e   a n d   f e d e r a l   l a w .   l i k e w i s e ,   y o u   s h o u l d   r e f r a i n   f r o m   w r i t i n g   c o m p u t e r   v i r u s e s ,   w o r m s ,   s e l f - r e p r o d u c i n g   c o d e ,   o r   o t h e r   k i n d s   o f   p o t e n t i a l l y   d a m a g i n g   s o f t w a r e   f o r   t h i s   c o u r s e   u n l e s s   y o u   h a v e   e x p l i c i t ,   w r i t t e n   a p p r o v a l   f o r   t h e   s p e c i f i c   t y p e   o f   s o f t w a r e   t h a t   y o u   w i s h   t o   c r e a t e .   t h e s e   k i n d s   o f   p r o g r a m s   a r e   n o t o r i o u s l y   d i f f i c u l t   t o   c o n t r o l   a n d   t h e i r   r e l e a s e   122 i n t e n t i o n a l   o r   o t h e r w i s e 93   c a n   r e s u l t   i n   s u b s t a n t i a l   c i v i l   a n d   c r i m i n a l   p e n a l t i e s .     i n   p a r t i c u l a r ,   t e r m   p r o j e c t s   i n v o l v i n g   a n   e v a l u a t i o n   o f   s e c u r i t y   o f   e x i s t i n g   c o m m e r c i a l   p r o d u c t s   o r   s y s t e m s   n e e d   t h e   a p p r o v a l   o f   t h e   c o u r s e   s t a f f ,   w h o   g e n e r a l l y   w i l l   r e q u i r e   t h a t   y o u   o b t a i n   p e r m i s s i o n   f r o m   t h e   v e n d o r / s u p p l i e r   122 d e p e n d i n g   o n   t h e   n a t u r e   o f   y o u r   p r o p o s e d   e v a l u a t i o n 93 .   t h e   t a s   c a n   s u p p l y   a   \" t e m p l a t e \"   l e t t e r   f o r   a s k i n g   f o r   s u c h   p e r m i s s i o n   f r o m   a   v e n d o r .     w e   s t r o n g l y   r e c o m m e n d   t h a t   y o u   c o n s u l t   t h e   a t h e n a   r u l e s   o f   u s e   a n d   s e c t i o n   110 38 . 74   o f   t h e   m i t   p o l i c i e s   a n d   p r o c e d u r e s   \" p o l i c y   o n   t h e   u s e   o f   i n f o r m a t i o n   t e c h n o l o g y \" .   f i n a l l y ,   w e   r e c o m m e n d   t h a t   y o u   r e a d   a n d   r e v i e w   t h e   a c m   c o d e   o f   e t h i c s   a n d   p r o f e s s i o n a l   c o n d u c t .     w e   e x p e c t   a l l   s t u d e n t s   i n   t h i s   c l a s s   t o   f o l l o w   t h e   g u i d e l i n e s   p r e s e n t e d   i n   t h i s   d o c u m e n t ,   a n d   i n   t h e   d o c u m e n t s   j u s t   c i t e d .   i f   y o u   a r e   i n   d o u b t   a b o u t   t h e   l e g a l i t y   o r   e t h i c s   o f   a n y   a c t i v i t y   r e l a t e d   t o   t h i s   c o u r s e ,   p l e a s e   c o n s u l t   t h e   s t a f f   b e f o r e   u n d e r t a k i n g   a n y   s u c h   a c t i v i t y .   m i t   s u p p o r t   r e s o u r c e s     s t r e s s f u l   s i t u a t i o n s   w i l l   a l m o s t   c e r t a i n l y   c o m e   u p   f o r   y o u   a t   s o m e   p o i n t   d u r i n g   t h i s   s e m e s t e r .   p l e a s e   t a k e   a d v a n t a g e   o f   m i t \\' s   e x c e l l e n t   s t u d e n t - s u p p o r t   r e s o u r c e s   l i s t e d   b e l o w .     u n d e r g r a d u a t e s           t h e   f i r s t   p l a c e   t o   g o   i s   s t u d e n t   s u p p o r t   s e r v i c e s   122 s 71 38 93 .   t h e y   a r e   e x t r a o r d i n a r i l y   h e l p f u l   a n d   t r u s t w o r t h y   f o l k s   a n d   w i l l   b e   a b l e   t o   c o n n e c t   y o u   w i t h   t h e   r i g h t   r e s o u r c e s   a t   m i t   t o   s o l v e   w h a t e v e r   p r o b l e m   h a s   c o m e   u p .             w e   a l s o   s t r o n g l y   r e c o m m e n d   t h a t   y o u   c o n t a c t   s t u d e n t   m e n t a l   h e a l t h   a n d   c o u n s e l i n g   s e r v i c e s   i f   s t r e s s   o r   a n x i e t y   i s   a f f e c t i n g   y o u r   a b i l i t y   t o   e n j o y   l i f e .   122 i f   y o u   a r e   f e e l i n g   s a d   o r   h o p e l e s s ,   i f   y o u   a r e   n o t   e n j o y i n g   a c t i v i t i e s   t h a t   y o u   u s u a l l y   l i k e ,   o r   i f   y o u   a r e   s l e e p i n g   n o t   e n o u g h   o r   t o o   m u c h 82   t h e   f o l k s   a t   s 71 38   a n d / o r   s t u d e n t   m e n t a l   h e a l t h   c a n   h e l p   y o u   o u t 62   y o u   s h o u l d   a l s o   a l w a y s   f e e l   f r e e   t o   c o n t a c t   t h e   c o u r s e   s t a f f   d i r e c t l y   b y   e m a i l   f o r   h e l p . 93     g r a d u a t e   s t u d e n t s           a s   f o r   u n d e r g r a d u a t e s ,   s t u d e n t   m e n t a l   h e a l t h   a n d   c o u n s e l i n g   s e r v i c e s   i s   t h e   p l a c e   t o   g o   i f   y o u   a r e   e x p e r i e n c i n g   s t r e s s   o r   a n x i e t y   t h a t   i s   a f f e c t i n g   y o u r   h a p p i n e s s .   f o r   a c a d e m i c   i s s u e s ,   g r a d s u p p o r t   i s   t h e   p l a c e   t h a t   g r a d   s t u d e n t s   c a n   g o   f o r   h e l p   w i t h   \" f a c u l t y / s t u d e n t   r e l a t i o n s h i p s ,   c h a n g i n g   y o u r   a d v i s o r ,   c o n f l i c t   n e g o t i a t i o n ,   f u n d i n g ,   a c a d e m i c   p r o g r e s s ,   i n t e r p e r s o n a l   c o n c e r n s ,   a n d   a   s t u d e n t \\' s   r i g h t s   a n d   r e s p o n s i b i l i t i e s . \"     p o s t d o c s   a n d   s t a f f           m y l i f e s e r v i c e s   i s   a n   i n c r e d i b l y   u s e f u l   r e s o u r c e   f o r   h e l p   w i t h   b a s i c a l l y   a n y t h i n g .   i f   y o u   a r e   h a v i n g   t r o u b l e   w i t h   s o m e t h i n g   - -   w h e t h e r   i t \\' s   m e n t a l   h e a l t h   i s s u e s   o r   l e g a l   i s s u e s   o r   f i n a n c i a l   i s s u e s   - -   t h e y   c a n   p u t   y o u   i n   t o u c h   w i t h   r e s o u r c e s   t h a t   c a n   h e l p .       c o u r s e   s t a f f     i n s t r u c t o r s     h e n r y   c o r r i g a n - g i b b s           e m a i l 82   h e n r y c g @ c s a i l . m i t . e d u   y a e l   k a l a i           e m a i l 82   t a u m a n @ m i t . e d u     t a s   a n d   l a s     a l e x a n d r a   h e n z i n g e r           e m a i l 82   a h e n z @ m i t . e d u   a n d r e a   l i n           e m a i l 82   a n d r e a y l @ m i t . e d u   k e l s e y   m e r r i l l           e m a i l 82   m e r r i l l @ m i t . e d u   k y l e   h o g a n           e m a i l 82   k l h o g a n @ m i t . e d u   s i m o n   l a n g o w s k i           e m a i l 82   s l a n g o w s @ m i t . e d u           h e r e   a r e   t h e   110 46   d e c i m a l   d i g i t s   i n   o r d e r 82   46 110 74 38 105 119 70 78 60 95   i n   c a s e   y o u r   k e r b e r o s   h a s   o n e   n o t   a l r e a d y   i n   t h i s   d o c u m e n t .'"
      ]
     },
     "execution_count": 270,
     "metadata": {},
     "output_type": "execute_result"
    }
   ],
   "source": [
    "substitution[107]=\"'\"\n",
    "substitution[63]='q'\n",
    "substitution[98]='z'\n",
    "substitution[92]='.'\n",
    "substitution[113]=','\n",
    "substitution[32]='j'\n",
    "substitution[81]='-'\n",
    "substitution[64]='\"'\n",
    "substitution[118]='/'\n",
    "substitution[124]='@'\n",
    "sub.try_substitution(substitution, cipher_bytes)"
   ]
  },
  {
   "cell_type": "markdown",
   "id": "478c0b92",
   "metadata": {},
   "source": [
    "At this point I just want to finish the assignment. I have enough characters to encode my email."
   ]
  },
  {
   "cell_type": "code",
   "execution_count": 281,
   "id": "fe1d3025",
   "metadata": {},
   "outputs": [
    {
     "name": "stdout",
     "output_type": "stream",
     "text": [
      "ascii charcters encrypted\n"
     ]
    },
    {
     "data": {
      "text/plain": [
       "[58, 75, 90, 103, 85, 90, 124, 65, 88, 40, 92, 90, 72, 67]"
      ]
     },
     "execution_count": 281,
     "metadata": {},
     "output_type": "execute_result"
    }
   ],
   "source": [
    "reverse_substitution = {a:b for (b,a) in substitution.items()}\n",
    "def encrypt(m):\n",
    "    return [reverse_substitution[char] if char in reverse_substitution else char for char in m]\n",
    "my_c = encrypt('aberke@mit.edu')\n",
    "print('ascii charcters encrypted')\n",
    "my_c"
   ]
  },
  {
   "cell_type": "code",
   "execution_count": 280,
   "id": "51d7c877",
   "metadata": {},
   "outputs": [
    {
     "name": "stdout",
     "output_type": "stream",
     "text": [
      "hex:\n"
     ]
    },
    {
     "data": {
      "text/plain": [
       "'3a4b5a67555a7c4158285c5a4843'"
      ]
     },
     "execution_count": 280,
     "metadata": {},
     "output_type": "execute_result"
    }
   ],
   "source": [
    "# write in hexidecimal notation\n",
    "print('in hex:')\n",
    "''.join('{:02x}'.format(x) for x in my_c)"
   ]
  },
  {
   "cell_type": "code",
   "execution_count": null,
   "id": "ac5f961d",
   "metadata": {},
   "outputs": [],
   "source": []
  }
 ],
 "metadata": {
  "kernelspec": {
   "display_name": "venv-65610",
   "language": "python",
   "name": "venv-65610"
  },
  "language_info": {
   "codemirror_mode": {
    "name": "ipython",
    "version": 3
   },
   "file_extension": ".py",
   "mimetype": "text/x-python",
   "name": "python",
   "nbconvert_exporter": "python",
   "pygments_lexer": "ipython3",
   "version": "3.7.1"
  }
 },
 "nbformat": 4,
 "nbformat_minor": 5
}
